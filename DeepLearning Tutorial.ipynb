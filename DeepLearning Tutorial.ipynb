{
 "cells": [
  {
   "cell_type": "code",
   "execution_count": 6,
   "id": "90c7e467",
   "metadata": {},
   "outputs": [
    {
     "name": "stdout",
     "output_type": "stream",
     "text": [
      "Epoch 1/100\n",
      "47/47 [==============================] - 0s 624us/step - loss: 0.8781 - accuracy: 0.7774\n",
      "Epoch 2/100\n",
      "47/47 [==============================] - 0s 545us/step - loss: 0.4637 - accuracy: 0.8707\n",
      "Epoch 3/100\n",
      "47/47 [==============================] - 0s 509us/step - loss: 0.4652 - accuracy: 0.8347\n",
      "Epoch 4/100\n",
      "47/47 [==============================] - 0s 479us/step - loss: 0.5176 - accuracy: 0.8405\n",
      "Epoch 5/100\n",
      "47/47 [==============================] - 0s 522us/step - loss: 0.4461 - accuracy: 0.8570\n",
      "Epoch 6/100\n",
      "47/47 [==============================] - 0s 502us/step - loss: 0.4391 - accuracy: 0.8523\n",
      "Epoch 7/100\n",
      "47/47 [==============================] - 0s 475us/step - loss: 0.4616 - accuracy: 0.8443\n",
      "Epoch 8/100\n",
      "47/47 [==============================] - 0s 458us/step - loss: 0.4523 - accuracy: 0.8447\n",
      "Epoch 9/100\n",
      "47/47 [==============================] - 0s 497us/step - loss: 0.3877 - accuracy: 0.8618\n",
      "Epoch 10/100\n",
      "47/47 [==============================] - 0s 455us/step - loss: 0.3944 - accuracy: 0.8697\n",
      "Epoch 11/100\n",
      "47/47 [==============================] - 0s 500us/step - loss: 0.4379 - accuracy: 0.8480\n",
      "Epoch 12/100\n",
      "47/47 [==============================] - 0s 471us/step - loss: 0.4470 - accuracy: 0.8449\n",
      "Epoch 13/100\n",
      "47/47 [==============================] - 0s 499us/step - loss: 0.4789 - accuracy: 0.8302\n",
      "Epoch 14/100\n",
      "47/47 [==============================] - 0s 462us/step - loss: 0.4402 - accuracy: 0.8438\n",
      "Epoch 15/100\n",
      "47/47 [==============================] - 0s 487us/step - loss: 0.4928 - accuracy: 0.8220\n",
      "Epoch 16/100\n",
      "47/47 [==============================] - 0s 477us/step - loss: 0.4119 - accuracy: 0.8534\n",
      "Epoch 17/100\n",
      "47/47 [==============================] - 0s 506us/step - loss: 0.4383 - accuracy: 0.8564\n",
      "Epoch 18/100\n",
      "47/47 [==============================] - 0s 477us/step - loss: 0.4807 - accuracy: 0.8556\n",
      "Epoch 19/100\n",
      "47/47 [==============================] - 0s 477us/step - loss: 0.4253 - accuracy: 0.8459\n",
      "Epoch 20/100\n",
      "47/47 [==============================] - 0s 493us/step - loss: 0.4403 - accuracy: 0.8561\n",
      "Epoch 21/100\n",
      "47/47 [==============================] - 0s 479us/step - loss: 0.4191 - accuracy: 0.8513\n",
      "Epoch 22/100\n",
      "47/47 [==============================] - 0s 512us/step - loss: 0.4100 - accuracy: 0.8554\n",
      "Epoch 23/100\n",
      "47/47 [==============================] - 0s 492us/step - loss: 0.4205 - accuracy: 0.8538\n",
      "Epoch 24/100\n",
      "47/47 [==============================] - 0s 455us/step - loss: 0.4226 - accuracy: 0.8471\n",
      "Epoch 25/100\n",
      "47/47 [==============================] - 0s 542us/step - loss: 0.4349 - accuracy: 0.8394\n",
      "Epoch 26/100\n",
      "47/47 [==============================] - 0s 486us/step - loss: 0.4526 - accuracy: 0.8552\n",
      "Epoch 27/100\n",
      "47/47 [==============================] - 0s 500us/step - loss: 0.4590 - accuracy: 0.8312\n",
      "Epoch 28/100\n",
      "47/47 [==============================] - 0s 511us/step - loss: 0.4469 - accuracy: 0.8461\n",
      "Epoch 29/100\n",
      "47/47 [==============================] - 0s 518us/step - loss: 0.3775 - accuracy: 0.8803\n",
      "Epoch 30/100\n",
      "47/47 [==============================] - 0s 477us/step - loss: 0.3581 - accuracy: 0.8892\n",
      "Epoch 31/100\n",
      "47/47 [==============================] - 0s 488us/step - loss: 0.4157 - accuracy: 0.8745\n",
      "Epoch 32/100\n",
      "47/47 [==============================] - 0s 481us/step - loss: 0.4037 - accuracy: 0.8639\n",
      "Epoch 33/100\n",
      "47/47 [==============================] - 0s 455us/step - loss: 0.4367 - accuracy: 0.8560\n",
      "Epoch 34/100\n",
      "47/47 [==============================] - 0s 480us/step - loss: 0.3961 - accuracy: 0.8582\n",
      "Epoch 35/100\n",
      "47/47 [==============================] - 0s 455us/step - loss: 0.4047 - accuracy: 0.8514\n",
      "Epoch 36/100\n",
      "47/47 [==============================] - 0s 477us/step - loss: 0.4423 - accuracy: 0.8340\n",
      "Epoch 37/100\n",
      "47/47 [==============================] - 0s 456us/step - loss: 0.4449 - accuracy: 0.8519\n",
      "Epoch 38/100\n",
      "47/47 [==============================] - 0s 564us/step - loss: 0.4314 - accuracy: 0.8452\n",
      "Epoch 39/100\n",
      "47/47 [==============================] - 0s 455us/step - loss: 0.4797 - accuracy: 0.8291\n",
      "Epoch 40/100\n",
      "47/47 [==============================] - 0s 498us/step - loss: 0.4177 - accuracy: 0.8508\n",
      "Epoch 41/100\n",
      "47/47 [==============================] - 0s 467us/step - loss: 0.4472 - accuracy: 0.8508\n",
      "Epoch 42/100\n",
      "47/47 [==============================] - 0s 477us/step - loss: 0.4340 - accuracy: 0.8517\n",
      "Epoch 43/100\n",
      "47/47 [==============================] - 0s 489us/step - loss: 0.3614 - accuracy: 0.8727\n",
      "Epoch 44/100\n",
      "47/47 [==============================] - 0s 463us/step - loss: 0.3523 - accuracy: 0.8783\n",
      "Epoch 45/100\n",
      "47/47 [==============================] - 0s 509us/step - loss: 0.3800 - accuracy: 0.8555\n",
      "Epoch 46/100\n",
      "47/47 [==============================] - 0s 477us/step - loss: 0.4116 - accuracy: 0.8546\n",
      "Epoch 47/100\n",
      "47/47 [==============================] - 0s 477us/step - loss: 0.3496 - accuracy: 0.8812\n",
      "Epoch 48/100\n",
      "47/47 [==============================] - 0s 477us/step - loss: 0.3902 - accuracy: 0.8645\n",
      "Epoch 49/100\n",
      "47/47 [==============================] - ETA: 0s - loss: 0.4508 - accuracy: 0.80 - 0s 477us/step - loss: 0.4169 - accuracy: 0.8361\n",
      "Epoch 50/100\n",
      "47/47 [==============================] - 0s 478us/step - loss: 0.3604 - accuracy: 0.8783\n",
      "Epoch 51/100\n",
      "47/47 [==============================] - 0s 473us/step - loss: 0.4260 - accuracy: 0.8457\n",
      "Epoch 52/100\n",
      "47/47 [==============================] - 0s 469us/step - loss: 0.4176 - accuracy: 0.8520\n",
      "Epoch 53/100\n",
      "47/47 [==============================] - 0s 502us/step - loss: 0.4213 - accuracy: 0.8481\n",
      "Epoch 54/100\n",
      "47/47 [==============================] - 0s 472us/step - loss: 0.4200 - accuracy: 0.8348\n",
      "Epoch 55/100\n",
      "47/47 [==============================] - 0s 476us/step - loss: 0.4092 - accuracy: 0.8632\n",
      "Epoch 56/100\n",
      "47/47 [==============================] - 0s 482us/step - loss: 0.3982 - accuracy: 0.8476\n",
      "Epoch 57/100\n",
      "47/47 [==============================] - 0s 492us/step - loss: 0.4001 - accuracy: 0.8525\n",
      "Epoch 58/100\n",
      "47/47 [==============================] - 0s 477us/step - loss: 0.3528 - accuracy: 0.8703\n",
      "Epoch 59/100\n",
      "47/47 [==============================] - 0s 455us/step - loss: 0.4201 - accuracy: 0.8475\n",
      "Epoch 60/100\n",
      "47/47 [==============================] - 0s 455us/step - loss: 0.3578 - accuracy: 0.8774\n",
      "Epoch 61/100\n",
      "47/47 [==============================] - 0s 455us/step - loss: 0.3907 - accuracy: 0.8725\n",
      "Epoch 62/100\n",
      "47/47 [==============================] - 0s 460us/step - loss: 0.4215 - accuracy: 0.8389\n",
      "Epoch 63/100\n",
      "47/47 [==============================] - 0s 470us/step - loss: 0.3711 - accuracy: 0.8686\n",
      "Epoch 64/100\n",
      "47/47 [==============================] - 0s 465us/step - loss: 0.4243 - accuracy: 0.8525\n",
      "Epoch 65/100\n",
      "47/47 [==============================] - 0s 477us/step - loss: 0.3775 - accuracy: 0.8639\n",
      "Epoch 66/100\n",
      "47/47 [==============================] - 0s 477us/step - loss: 0.4256 - accuracy: 0.8517\n",
      "Epoch 67/100\n",
      "47/47 [==============================] - 0s 477us/step - loss: 0.3803 - accuracy: 0.8612\n",
      "Epoch 68/100\n",
      "47/47 [==============================] - 0s 455us/step - loss: 0.4071 - accuracy: 0.8624\n",
      "Epoch 69/100\n",
      "47/47 [==============================] - 0s 455us/step - loss: 0.4336 - accuracy: 0.8197\n",
      "Epoch 70/100\n",
      "47/47 [==============================] - 0s 464us/step - loss: 0.4068 - accuracy: 0.8519\n",
      "Epoch 71/100\n",
      "47/47 [==============================] - 0s 476us/step - loss: 0.4412 - accuracy: 0.8194\n",
      "Epoch 72/100\n",
      "47/47 [==============================] - 0s 470us/step - loss: 0.3777 - accuracy: 0.8554\n",
      "Epoch 73/100\n",
      "47/47 [==============================] - 0s 477us/step - loss: 0.4042 - accuracy: 0.8489\n",
      "Epoch 74/100\n",
      "47/47 [==============================] - 0s 477us/step - loss: 0.3783 - accuracy: 0.8595\n",
      "Epoch 75/100\n",
      "47/47 [==============================] - 0s 455us/step - loss: 0.3516 - accuracy: 0.8812\n",
      "Epoch 76/100\n",
      "47/47 [==============================] - 0s 455us/step - loss: 0.3733 - accuracy: 0.8629\n",
      "Epoch 77/100\n",
      "47/47 [==============================] - 0s 455us/step - loss: 0.4473 - accuracy: 0.8247\n",
      "Epoch 78/100\n",
      "47/47 [==============================] - 0s 477us/step - loss: 0.3992 - accuracy: 0.8696\n",
      "Epoch 79/100\n",
      "47/47 [==============================] - 0s 471us/step - loss: 0.4184 - accuracy: 0.8299\n",
      "Epoch 80/100\n",
      "47/47 [==============================] - 0s 455us/step - loss: 0.4250 - accuracy: 0.8335\n"
     ]
    },
    {
     "name": "stdout",
     "output_type": "stream",
     "text": [
      "Epoch 81/100\n",
      "47/47 [==============================] - 0s 480us/step - loss: 0.3712 - accuracy: 0.8793\n",
      "Epoch 82/100\n",
      "47/47 [==============================] - 0s 460us/step - loss: 0.4214 - accuracy: 0.8487\n",
      "Epoch 83/100\n",
      "47/47 [==============================] - 0s 499us/step - loss: 0.4450 - accuracy: 0.8381\n",
      "Epoch 84/100\n",
      "47/47 [==============================] - 0s 477us/step - loss: 0.3537 - accuracy: 0.8840\n",
      "Epoch 85/100\n",
      "47/47 [==============================] - 0s 499us/step - loss: 0.3822 - accuracy: 0.8617\n",
      "Epoch 86/100\n",
      "47/47 [==============================] - 0s 471us/step - loss: 0.3410 - accuracy: 0.8688\n",
      "Epoch 87/100\n",
      "47/47 [==============================] - 0s 501us/step - loss: 0.3933 - accuracy: 0.8567\n",
      "Epoch 88/100\n",
      "47/47 [==============================] - 0s 494us/step - loss: 0.3747 - accuracy: 0.8538\n",
      "Epoch 89/100\n",
      "47/47 [==============================] - 0s 453us/step - loss: 0.3942 - accuracy: 0.8320\n",
      "Epoch 90/100\n",
      "47/47 [==============================] - 0s 455us/step - loss: 0.3722 - accuracy: 0.8768\n",
      "Epoch 91/100\n",
      "47/47 [==============================] - 0s 455us/step - loss: 0.4208 - accuracy: 0.8516\n",
      "Epoch 92/100\n",
      "47/47 [==============================] - 0s 477us/step - loss: 0.4239 - accuracy: 0.8407\n",
      "Epoch 93/100\n",
      "47/47 [==============================] - 0s 455us/step - loss: 0.4079 - accuracy: 0.8362\n",
      "Epoch 94/100\n",
      "47/47 [==============================] - 0s 455us/step - loss: 0.3913 - accuracy: 0.8367\n",
      "Epoch 95/100\n",
      "47/47 [==============================] - 0s 455us/step - loss: 0.4023 - accuracy: 0.8584\n",
      "Epoch 96/100\n",
      "47/47 [==============================] - 0s 434us/step - loss: 0.4342 - accuracy: 0.8596\n",
      "Epoch 97/100\n",
      "47/47 [==============================] - 0s 455us/step - loss: 0.4469 - accuracy: 0.8137\n",
      "Epoch 98/100\n",
      "47/47 [==============================] - 0s 455us/step - loss: 0.3893 - accuracy: 0.8690\n",
      "Epoch 99/100\n",
      "47/47 [==============================] - 0s 455us/step - loss: 0.3737 - accuracy: 0.8620\n",
      "Epoch 100/100\n",
      "47/47 [==============================] - 0s 455us/step - loss: 0.3956 - accuracy: 0.8330\n"
     ]
    },
    {
     "data": {
      "text/plain": [
       "<tensorflow.python.keras.callbacks.History at 0x19d79712a90>"
      ]
     },
     "execution_count": 6,
     "metadata": {},
     "output_type": "execute_result"
    }
   ],
   "source": [
    "from tensorflow.keras.models import Sequential\n",
    "from tensorflow.keras.layers import Dense\n",
    "import numpy as np\n",
    "import tensorflow as tf\n",
    "np.random.seed(3)\n",
    "tf.random.set_seed(3)\n",
    "\n",
    "Data_set = np.loadtxt(\"ThoraricSurgery.csv\" , delimiter=\",\")\n",
    "Data_set.shape\n",
    "# read.csv(pandas라입이용) 과 같은 불러오기 기능\n",
    "\n",
    "X = Data_set[:, 0:17]\n",
    "Y = Data_set[:, 17]\n",
    "# 사용할 데이터 선택\n",
    "\n",
    "## 밑으로는 항상 쓰는 코드 (날코딩으로 하면 몇백줄 > 효율적인 라이브러리)\n",
    "\n",
    "model = Sequential()\n",
    "# 시퀀셜 - 신경망 만들기\n",
    "model.add(Dense(30, input_dim=17, activation='relu'))\n",
    "# 신경망(은닉층) 30개, 17개 속성, 값들이 신경망안에서 relu에 의해 변환\n",
    "model.add(Dense(1,  activation='sigmoid'))\n",
    "#값 1개, 오차 처리는 sigmoid\n",
    "model.compile(loss=\"binary_crossentropy\", optimizer=\"adam\" , metrics=['accuracy'])\n",
    "model.fit(X, Y , epochs=100, batch_size=10)\n",
    "# 학습 사이즈 10"
   ]
  },
  {
   "cell_type": "code",
   "execution_count": 28,
   "id": "35df42e9",
   "metadata": {
    "collapsed": true
   },
   "outputs": [
    {
     "name": "stdout",
     "output_type": "stream",
     "text": [
      "Epoch 1/30\n",
      "200/200 [==============================] - 0s 453us/step - loss: 3.8734 - mse: 3.8734\n",
      "Epoch 2/30\n",
      "200/200 [==============================] - 0s 381us/step - loss: 0.1792 - mse: 0.1792\n",
      "Epoch 3/30\n",
      "200/200 [==============================] - 0s 375us/step - loss: 0.1757 - mse: 0.1757\n",
      "Epoch 4/30\n",
      "200/200 [==============================] - 0s 377us/step - loss: 0.1869 - mse: 0.1869\n",
      "Epoch 5/30\n",
      "200/200 [==============================] - 0s 372us/step - loss: 0.1363 - mse: 0.1363\n",
      "Epoch 6/30\n",
      "200/200 [==============================] - 0s 385us/step - loss: 0.1466 - mse: 0.1466\n",
      "Epoch 7/30\n",
      "200/200 [==============================] - 0s 372us/step - loss: 0.1155 - mse: 0.1155 \n",
      "Epoch 8/30\n",
      "200/200 [==============================] - 0s 369us/step - loss: 0.1287 - mse: 0.1287\n",
      "Epoch 9/30\n",
      "200/200 [==============================] - 0s 364us/step - loss: 0.1329 - mse: 0.1329\n",
      "Epoch 10/30\n",
      "200/200 [==============================] - 0s 362us/step - loss: 0.1387 - mse: 0.1387\n",
      "Epoch 11/30\n",
      "200/200 [==============================] - 0s 365us/step - loss: 0.1050 - mse: 0.1050\n",
      "Epoch 12/30\n",
      "200/200 [==============================] - 0s 357us/step - loss: 0.1154 - mse: 0.1154\n",
      "Epoch 13/30\n",
      "200/200 [==============================] - 0s 375us/step - loss: 0.1205 - mse: 0.1205\n",
      "Epoch 14/30\n",
      "200/200 [==============================] - 0s 371us/step - loss: 0.1405 - mse: 0.1405\n",
      "Epoch 15/30\n",
      "200/200 [==============================] - 0s 362us/step - loss: 0.1275 - mse: 0.1275\n",
      "Epoch 16/30\n",
      "200/200 [==============================] - 0s 369us/step - loss: 0.0929 - mse: 0.0929\n",
      "Epoch 17/30\n",
      "200/200 [==============================] - 0s 366us/step - loss: 0.1125 - mse: 0.1125\n",
      "Epoch 18/30\n",
      "200/200 [==============================] - 0s 387us/step - loss: 0.1043 - mse: 0.1043\n",
      "Epoch 19/30\n",
      "200/200 [==============================] - 0s 389us/step - loss: 0.1035 - mse: 0.1035\n",
      "Epoch 20/30\n",
      "200/200 [==============================] - 0s 388us/step - loss: 0.1184 - mse: 0.1184\n",
      "Epoch 21/30\n",
      "200/200 [==============================] - 0s 375us/step - loss: 0.1004 - mse: 0.1004\n",
      "Epoch 22/30\n",
      "200/200 [==============================] - 0s 370us/step - loss: 0.0887 - mse: 0.0887\n",
      "Epoch 23/30\n",
      "200/200 [==============================] - 0s 383us/step - loss: 0.1082 - mse: 0.1082\n",
      "Epoch 24/30\n",
      "200/200 [==============================] - 0s 407us/step - loss: 0.1074 - mse: 0.1074\n",
      "Epoch 25/30\n",
      "200/200 [==============================] - 0s 392us/step - loss: 0.0966 - mse: 0.0966\n",
      "Epoch 26/30\n",
      "200/200 [==============================] - 0s 383us/step - loss: 0.0989 - mse: 0.0989\n",
      "Epoch 27/30\n",
      "200/200 [==============================] - 0s 385us/step - loss: 0.0920 - mse: 0.0920\n",
      "Epoch 28/30\n",
      "200/200 [==============================] - 0s 405us/step - loss: 0.0905 - mse: 0.0905 \n",
      "Epoch 29/30\n",
      "200/200 [==============================] - 0s 387us/step - loss: 0.0978 - mse: 0.0978\n",
      "Epoch 30/30\n",
      "200/200 [==============================] - 0s 381us/step - loss: 0.1074 - mse: 0.1074\n",
      "WARNING:tensorflow:7 out of the last 13 calls to <function Model.make_predict_function.<locals>.predict_function at 0x0000019D7D1C1940> triggered tf.function retracing. Tracing is expensive and the excessive number of tracings could be due to (1) creating @tf.function repeatedly in a loop, (2) passing tensors with different shapes, (3) passing Python objects instead of tensors. For (1), please define your @tf.function outside of the loop. For (2), @tf.function has experimental_relax_shapes=True option that relaxes argument shapes that can avoid unnecessary retracing. For (3), please refer to https://www.tensorflow.org/guide/function#controlling_retracing and https://www.tensorflow.org/api_docs/python/tf/function for  more details.\n"
     ]
    },
    {
     "data": {
      "image/png": "[encoded data removed]",
      "text/plain": [
       "<Figure size 432x288 with 1 Axes>"
      ]
     },
     "metadata": {
      "needs_background": "light"
     },
     "output_type": "display_data"
    }
   ],
   "source": [
    "## 강의교재(딥러닝기초).pdf 34쪽 참조\n",
    "# 지도학습으로 딥러닝\n",
    "\n",
    "from tensorflow.keras.models import Sequential\n",
    "from tensorflow.keras.layers import Dense\n",
    "\n",
    "import numpy as np\n",
    "import tensorflow as tf\n",
    "from matplotlib import pyplot as plt\n",
    "\n",
    "X = data = np.linspace(1,2,200)\n",
    "# X.shape\n",
    "# print(X)\n",
    "Y= X*4 + np.random.randn(200) * 0.3\n",
    "# Y\n",
    "# print(Y)\n",
    "### 지도학습\n",
    "\n",
    "model = Sequential()\n",
    "model.add(Dense(1, input_dim = 1, activation= 'linear'))\n",
    "# 선형회귀라서 input_dim : 1\n",
    "model.compile(optimizer='sgd', loss = 'mse', metrics=['mse'])\n",
    "# sgd = 확률적 경사 하강법(Stochastic Gradient Descent, SGD)\n",
    "model.fit(X, Y, batch_size=1, epochs=30 )#, verbose = 0) # 학습하는 과정을 보여주는 파라미터 verbose\n",
    "\n",
    "predict = model.predict(data)\n",
    "# predict = model.predict([X[1]])\n",
    "# predict = model.predict([3,4])\n",
    "# predict = model.predict([190])\n",
    "# predict\n",
    "# print(predict)\n",
    "## ((3.33805466-3.977989)**2)**0.5\n",
    "\n",
    "plt.plot(data, predict, 'b', data, Y, 'k.')\n",
    "plt.show()"
   ]
  },
  {
   "cell_type": "markdown",
   "id": "8637c925",
   "metadata": {},
   "source": [
    "##### 선형회귀"
   ]
  },
  {
   "cell_type": "code",
   "execution_count": 21,
   "id": "206d8b38",
   "metadata": {},
   "outputs": [
    {
     "name": "stdout",
     "output_type": "stream",
     "text": [
      "5.0 90.5\n"
     ]
    },
    {
     "data": {
      "text/plain": [
       "20.0"
      ]
     },
     "execution_count": 21,
     "metadata": {},
     "output_type": "execute_result"
    }
   ],
   "source": [
    "import numpy as np\n",
    "\n",
    "x = [2,4,6,8]\n",
    "y = [81,93,91,97]\n",
    "\n",
    "# x, y의 mean\n",
    "mx = np.mean(x)\n",
    "my = np.mean(y)\n",
    "\n",
    "print(mx, my)\n",
    "\n",
    "# list_arr = []\n",
    "# for i in x:\n",
    "    \n",
    "#     a = (mx-i)**2\n",
    "#     list_arr.append(a)\n",
    "#     divisor = sum(list_arr)\n",
    "    \n",
    "divisor = sum((mx-i)**2 for i in x)\n",
    "\n",
    "divisor"
   ]
  },
  {
   "cell_type": "code",
   "execution_count": 22,
   "id": "590831b8",
   "metadata": {},
   "outputs": [],
   "source": [
    "# def top(x, mx, y, my):\n",
    "#     d = 0\n",
    "#     for i in range(len(x)):  ## len(x) =4 ~excel count함수와 같은기능\n",
    "#         d += (x[i] - mx) * (y[i] - my)\n",
    "#     return d\n",
    "# dividend = top(x, mx, y, my)\n",
    "\n",
    "# print(\"분모:\", divisor)\n",
    "# print(\"분자:\", dividend)"
   ]
  },
  {
   "cell_type": "code",
   "execution_count": 23,
   "id": "e137f792",
   "metadata": {},
   "outputs": [
    {
     "data": {
      "text/plain": [
       "46.0"
      ]
     },
     "execution_count": 23,
     "metadata": {},
     "output_type": "execute_result"
    }
   ],
   "source": [
    "def top(x, mx, y, my):\n",
    "    d = sum((mx-x[i])*(my-y[i]) for i in range(len(x)))\n",
    "    return d\n",
    "top(x, mx, y, my)"
   ]
  },
  {
   "cell_type": "code",
   "execution_count": 30,
   "id": "bc332c9e",
   "metadata": {},
   "outputs": [
    {
     "name": "stdout",
     "output_type": "stream",
     "text": [
      "2.3\n",
      "79.0\n"
     ]
    }
   ],
   "source": [
    "dividend = top(x, mx, y, my)\n",
    "a = dividend/divisor\n",
    "\n",
    "b = my - (mx*a)\n",
    "print(a)\n",
    "print(b)"
   ]
  },
  {
   "cell_type": "code",
   "execution_count": 33,
   "id": "811fe25f",
   "metadata": {
    "scrolled": true
   },
   "outputs": [
    {
     "data": {
      "image/png": "[encoded data removed]",
      "text/plain": [
       "<Figure size 432x288 with 1 Axes>"
      ]
     },
     "metadata": {
      "needs_background": "light"
     },
     "output_type": "display_data"
    }
   ],
   "source": [
    "import matplotlib.pyplot as plt\n",
    "\n",
    "plt.scatter(x, y)\n",
    "plt.show()"
   ]
  },
  {
   "cell_type": "code",
   "execution_count": 37,
   "id": "28e0a887",
   "metadata": {},
   "outputs": [
    {
     "data": {
      "text/plain": [
       "<matplotlib.legend.Legend at 0x20cb6ed4790>"
      ]
     },
     "execution_count": 37,
     "metadata": {},
     "output_type": "execute_result"
    },
    {
     "data": {
      "image/png": "[encoded data removed]",
      "text/plain": [
       "<Figure size 432x288 with 1 Axes>"
      ]
     },
     "metadata": {
      "needs_background": "light"
     },
     "output_type": "display_data"
    }
   ],
   "source": [
    "import matplotlib.pyplot as plt\n",
    "\n",
    "plt.scatter(x, y, label = 'REal')\n",
    "plt.legend()"
   ]
  },
  {
   "cell_type": "code",
   "execution_count": 46,
   "id": "79f0d8d3",
   "metadata": {},
   "outputs": [
    {
     "name": "stdout",
     "output_type": "stream",
     "text": [
      "2.3\n",
      "79.0\n"
     ]
    },
    {
     "data": {
      "text/plain": [
       "<matplotlib.legend.Legend at 0x20cb7ddae20>"
      ]
     },
     "execution_count": 46,
     "metadata": {},
     "output_type": "execute_result"
    },
    {
     "data": {
      "image/png": "[encoded data removed]",
      "text/plain": [
       "<Figure size 432x288 with 1 Axes>"
      ]
     },
     "metadata": {
      "needs_background": "light"
     },
     "output_type": "display_data"
    }
   ],
   "source": [
    "import matplotlib.pyplot as plt\n",
    "\n",
    "print(a);print(b)\n",
    "predict = []\n",
    "\n",
    "for i in x:\n",
    "    pre_y = a*i+b\n",
    "    predict.append(pre_y)\n",
    "\n",
    "plt.scatter(x, y, label = 'real') ## 산점도 그리기\n",
    "plt.plot(x, predict, c = 'r', label = \"predict\") ## 직선 그래프 그리기\n",
    "plt.legend() ## 라벨(범례값) 달땐 .legend"
   ]
  },
  {
   "cell_type": "code",
   "execution_count": 51,
   "id": "a12b26cd",
   "metadata": {},
   "outputs": [
    {
     "name": "stdout",
     "output_type": "stream",
     "text": [
      "11.0\n"
     ]
    }
   ],
   "source": [
    "## 강의교재(딥러닝기초).pdf 65쪽 참조\n",
    "\n",
    "import numpy as np\n",
    "\n",
    "# 가상의 기울기 a와 y 절편 b\n",
    "fake_a_b = [3, 76]\n",
    "# fake_a_b = [2.3, 79]\n",
    "## 임의로 정한 기울기 a와 y절편 b의 값이 각각 3, 76 \n",
    "\n",
    "# x값과 y값\n",
    "data = [[2,81],[4,93],[6,91],[8,97]]\n",
    "x = [i[0] for i in data]\n",
    "y = [i[1] for i in data]\n",
    "## 공부한 시간 x 리스트와 성적 y 리스트를 만든다.\n",
    "\n",
    "# y = ax + b에 a,b 값 대입하여 결과를 출력하는 함수\n",
    "def predict(x):\n",
    "    return fake_a_b[0]*x +fake_a_b[1]\n",
    "## 일차방정식 y=ax+b를 구현하는 함수 : predict\n",
    "\n",
    "# MSE 함수\n",
    "def mse(y, y_hat):\n",
    "    return ((y-y_hat)**2).mean()\n",
    "## 평균제곱오차(mse)를 계산해주는 함수 : mse\n",
    "\n",
    "# MSE 함수를 각 y값에 대입하여 최종 값을 구하는 함수\n",
    "def mse_val(y, predict_result):\n",
    "    return mse(np.array(y), np.array(predict_result))\n",
    "\n",
    "# 예측값이 들어갈 빈 리스트\n",
    "predict_result = []\n",
    "\n",
    "# 모든 x값을 한 번씩 대입하여 predict_result 리스트완성.\n",
    "for i in range(len(x)):\n",
    "    predict_result.append(predict(x[i]))\n",
    "## 처음 가정한 a=3, b=76은 오차가 약 11.0 이라는 것 확인\n",
    "## 앞으로 할 일\n",
    "## - 이 오차를 줄이는 새로운 선 긋기\n",
    "## - a와 b의 값을 적절히 조절하면서 오차의 변화를 살펴보고, 그 오차가 최소화되는 a, b 구하기\n",
    "## -> 경사 하강법\n",
    "\n",
    "# 최종 MSE 출력\n",
    "print(mse_val(predict_result, y))"
   ]
  },
  {
   "cell_type": "markdown",
   "id": "ece8d4f5",
   "metadata": {},
   "source": [
    "##### 경사 하강법"
   ]
  },
  {
   "cell_type": "code",
   "execution_count": 57,
   "id": "02665ef7",
   "metadata": {},
   "outputs": [
    {
     "ename": "NameError",
     "evalue": "name 'x_data' is not defined",
     "output_type": "error",
     "traceback": [
      "\u001b[1;31m---------------------------------------------------------------------------\u001b[0m",
      "\u001b[1;31mNameError\u001b[0m                                 Traceback (most recent call last)",
      "\u001b[1;32m<ipython-input-57-59e6ee0a5220>\u001b[0m in \u001b[0;36m<module>\u001b[1;34m\u001b[0m\n\u001b[1;32m----> 1\u001b[1;33m \u001b[0my_pred\u001b[0m \u001b[1;33m=\u001b[0m \u001b[0ma\u001b[0m \u001b[1;33m*\u001b[0m \u001b[0mx_data\u001b[0m \u001b[1;33m+\u001b[0m \u001b[0mb\u001b[0m\u001b[1;33m\u001b[0m\u001b[1;33m\u001b[0m\u001b[0m\n\u001b[0m\u001b[0;32m      2\u001b[0m \u001b[0merror\u001b[0m \u001b[1;33m=\u001b[0m \u001b[0my_data\u001b[0m \u001b[1;33m-\u001b[0m \u001b[0my_pred\u001b[0m\u001b[1;33m\u001b[0m\u001b[1;33m\u001b[0m\u001b[0m\n\u001b[0;32m      3\u001b[0m \u001b[1;33m\u001b[0m\u001b[0m\n\u001b[0;32m      4\u001b[0m \u001b[0ma_diff\u001b[0m \u001b[1;33m=\u001b[0m \u001b[1;33m-\u001b[0m\u001b[1;33m(\u001b[0m\u001b[1;36m2\u001b[0m \u001b[1;33m/\u001b[0m \u001b[0mlen\u001b[0m\u001b[1;33m(\u001b[0m\u001b[0mx_data\u001b[0m\u001b[1;33m)\u001b[0m\u001b[1;33m)\u001b[0m \u001b[1;33m*\u001b[0m \u001b[0msum\u001b[0m\u001b[1;33m(\u001b[0m\u001b[0mx_data\u001b[0m \u001b[1;33m*\u001b[0m \u001b[1;33m(\u001b[0m\u001b[0merror\u001b[0m\u001b[1;33m)\u001b[0m\u001b[1;33m)\u001b[0m\u001b[1;33m\u001b[0m\u001b[1;33m\u001b[0m\u001b[0m\n\u001b[0;32m      5\u001b[0m \u001b[0mb_diff\u001b[0m \u001b[1;33m=\u001b[0m \u001b[1;33m-\u001b[0m\u001b[1;33m(\u001b[0m\u001b[1;36m2\u001b[0m \u001b[1;33m/\u001b[0m \u001b[0mlen\u001b[0m\u001b[1;33m(\u001b[0m\u001b[0mx_data\u001b[0m\u001b[1;33m)\u001b[0m\u001b[1;33m)\u001b[0m \u001b[1;33m*\u001b[0m \u001b[0msum\u001b[0m\u001b[1;33m(\u001b[0m\u001b[0my_data\u001b[0m \u001b[1;33m*\u001b[0m \u001b[0my_pred\u001b[0m\u001b[1;33m)\u001b[0m\u001b[1;33m\u001b[0m\u001b[1;33m\u001b[0m\u001b[0m\n",
      "\u001b[1;31mNameError\u001b[0m: name 'x_data' is not defined"
     ]
    }
   ],
   "source": [
    "y_pred = a * x_data + b\n",
    "error = y_data - y_pred\n",
    "\n",
    "a_diff = -(2 / len(x_data)) * sum(x_data * (error))\n",
    "b_diff = -(2 / len(x_data)) * sum(y_data * y_pred)\n",
    "\n",
    "a = a - lr * a_diff\n",
    "b = b - lr * b_diff"
   ]
  },
  {
   "cell_type": "code",
   "execution_count": 56,
   "id": "984b615d",
   "metadata": {},
   "outputs": [
    {
     "data": {
      "image/png": "[encoded data removed]",
      "text/plain": [
       "<Figure size 576x360 with 1 Axes>"
      ]
     },
     "metadata": {
      "needs_background": "light"
     },
     "output_type": "display_data"
    }
   ],
   "source": [
    "import numpy as np\n",
    "import pandas as pd\n",
    "import matplotlib.pyplot as plt\n",
    "\n",
    "# 공부시간 x와 성적 y의 리스트를 만듭니다.\n",
    "data= [[2,81],[4,93],[6,91],[8,97]]\n",
    "x = [i[0] for i in data]\n",
    "y = [i[1] for i in data]\n",
    "\n",
    "# 그래프로 나타내 봅니다.\n",
    "plt.figure(figsize=(8,5))\n",
    "plt.scatter(x,y)\n",
    "plt.show()"
   ]
  },
  {
   "cell_type": "code",
   "execution_count": 65,
   "id": "a64f58f8",
   "metadata": {
    "scrolled": false
   },
   "outputs": [
    {
     "data": {
      "image/png": "[encoded data removed]",
      "text/plain": [
       "<Figure size 576x360 with 1 Axes>"
      ]
     },
     "metadata": {
      "needs_background": "light"
     },
     "output_type": "display_data"
    },
    {
     "name": "stdout",
     "output_type": "stream",
     "text": [
      "epoch=0, 기울기=27.8400, 절편=5.4300\n",
      "epoch=100, 기울기=7.0739, 절편=50.5117\n",
      "epoch=200, 기울기=4.0960, 절편=68.2822\n",
      "epoch=300, 기울기=2.9757, 절편=74.9678\n",
      "epoch=400, 기울기=2.5542, 절편=77.4830\n",
      "epoch=500, 기울기=2.3956, 절편=78.4293\n",
      "epoch=600, 기울기=2.3360, 절편=78.7853\n",
      "epoch=700, 기울기=2.3135, 절편=78.9192\n",
      "epoch=800, 기울기=2.3051, 절편=78.9696\n",
      "epoch=900, 기울기=2.3019, 절편=78.9886\n",
      "epoch=1000, 기울기=2.3007, 절편=78.9957\n",
      "epoch=1100, 기울기=2.3003, 절편=78.9984\n",
      "epoch=1200, 기울기=2.3001, 절편=78.9994\n",
      "epoch=1300, 기울기=2.3000, 절편=78.9998\n",
      "epoch=1400, 기울기=2.3000, 절편=78.9999\n",
      "epoch=1500, 기울기=2.3000, 절편=79.0000\n",
      "epoch=1600, 기울기=2.3000, 절편=79.0000\n",
      "epoch=1700, 기울기=2.3000, 절편=79.0000\n",
      "epoch=1800, 기울기=2.3000, 절편=79.0000\n",
      "epoch=1900, 기울기=2.3000, 절편=79.0000\n",
      "epoch=2000, 기울기=2.3000, 절편=79.0000\n"
     ]
    }
   ],
   "source": [
    "## 알고리즘 날코딩\n",
    "\n",
    "import numpy as np\n",
    "import pandas as pd\n",
    "import matplotlib.pyplot as plt\n",
    "\n",
    "data = [[2, 81],[4, 93],[6, 91],[8, 97]]\n",
    "x = [i[0] for i in data]\n",
    "y = [i[1] for i in data]\n",
    "\n",
    "plt.figure(figsize=(8 ,5))\n",
    "plt.scatter(x, y)\n",
    "plt.show()\n",
    "##############################################################################\n",
    "\n",
    "# 리스트로 되어 있는 x와 y값을 넘파이 배열로 변경\n",
    "x_data = np.array(x)\n",
    "y_data = np.array(y)\n",
    "\n",
    "# 기울기 a와 절편 b 초기화\n",
    "a = 0 \n",
    "b = 0\n",
    "\n",
    "#학습률 정의\n",
    "lr = 0.03\n",
    "\n",
    "#학습 반복 설정\n",
    "epochs = 2001\n",
    "\n",
    "#경사 하강법 실행\n",
    "for i in range(epochs): \n",
    "    y_hat =  a * x_data + b  # epoch 수 만큼 반복\n",
    "    error = y_data - y_hat # 오차를 구하는 식\n",
    "    a_diff = -(2/len(x_data)) * sum(x_data *(error)) # 오차함수를 a로 미분한 값\n",
    "    b_diff = -(2/len(x_data)) * sum(error) # 오차함수를 b로 미분한 값\n",
    "    a = a - lr * a_diff # 학습률을 곱해 기존의 a값을 업데이트\n",
    "    b = b - lr * b_diff # 학습률을 곱해 기존의 b값을 업데이트\n",
    "    if i % 100 == 0: # 100번 반복될 때마다 현재의 epoch , a, b값을 출력\n",
    "        print(\"epoch=%.f, 기울기=%.04f, 절편=%.04f\"  % (i, a, b)) "
   ]
  },
  {
   "cell_type": "code",
   "execution_count": 67,
   "id": "dfb89003",
   "metadata": {},
   "outputs": [
    {
     "name": "stdout",
     "output_type": "stream",
     "text": [
      "epoch = 0 기울기 = 27.84 절편 = 5.43\n",
      "epoch = 100 기울기 = 7.073858435872394 절편 = 50.51166161138297\n",
      "epoch = 200 기울기 = 4.095999380762421 절편 = 68.28224379060177\n",
      "epoch = 300 기울기 = 2.9756829100119027 절편 = 74.96781336233505\n",
      "epoch = 400 기울기 = 2.5542024233262106 절편 = 77.48302865233052\n",
      "epoch = 500 기울기 = 2.3956349066513707 절편 = 78.42929177728175\n",
      "epoch = 600 기울기 = 2.3359793398132864 절편 = 78.78529068727728\n",
      "epoch = 700 기울기 = 2.313535987420573 절편 = 78.91922301600925\n",
      "epoch = 800 기울기 = 2.3050924490666174 절편 = 78.96961044185792\n",
      "epoch = 900 기울기 = 2.3019158585694823 절편 = 78.98856697541248\n",
      "epoch = 1000 기울기 = 2.3007207758016315 절편 = 78.99569871827002\n",
      "epoch = 1100 기울기 = 2.300271167070735 절편 = 78.99838179089187\n",
      "epoch = 1200 기울기 = 2.3001020172709508 절편 = 78.9993912045567\n",
      "epoch = 1300 기울기 = 2.300038380484562 절편 = 78.99977096168232\n",
      "epoch = 1400 기울기 = 2.3000144393354365 절편 = 78.9999138322214\n",
      "epoch = 1500 기울기 = 2.3000054323026444 절편 = 78.99996758234106\n",
      "epoch = 1600 기울기 = 2.300002043716771 절편 = 78.99998780397235\n",
      "epoch = 1700 기울기 = 2.3000007688780433 절편 = 78.99999541166466\n",
      "epoch = 1800 기울기 = 2.300000289263884 절편 = 78.99999827379686\n",
      "epoch = 1900 기울기 = 2.3000001088255795 절편 = 78.9999993505755\n",
      "epoch = 2000 기울기 = 2.3000000409418653 절편 = 78.99999975567644\n"
     ]
    }
   ],
   "source": [
    "#리스트로 되어있는 x와 y값을 학습을 위해 넘파이 배열로 바꾸어줌.\n",
    "#인덱스를 주어 하나씩 불러와 계산이 가능해 지도록 하기 위함.\n",
    "x_data = np.array(x)\n",
    "y_data = np.array(y)\n",
    "\n",
    "#기울기 a와 절편 b의 값을 초기화\n",
    "a = 0\n",
    "b = 0\n",
    "\n",
    "#학습률 0.03\n",
    "lr = 0.03\n",
    "\n",
    "#몇 번 반복될지 설정함. 여기선 경사하강법 횟수\n",
    "epochs = 2001\n",
    "\n",
    "#경사하강법 시작\n",
    "for i in range(epochs):\n",
    "    y_hat = a * x_data +b # y를 구하는 식\n",
    "    error = y_data - y_hat #오차 구하는 식\n",
    "    a_diff = -(2/len(x_data) * sum(x_data * (error))) #오차함수를 a로 미분한 값\n",
    "    b_diff = -(2/len(x_data) * sum(error)) #오차함수를 b로 미분한 값\n",
    "    a = a - lr * a_diff #학습률을 곱해 기존의 a값을 업데이트\n",
    "    b = b - lr * b_diff #학습률을 곱해 기존의 b값을 업데이트\n",
    "    if i % 100 == 0: #100번 반복될 때마다 현재의 epoch , a, b값을 출력\n",
    "        print(f'epoch = {i} 기울기 = {a} 절편 = {b}')"
   ]
  },
  {
   "cell_type": "code",
   "execution_count": 70,
   "id": "a593ae27",
   "metadata": {},
   "outputs": [
    {
     "data": {
      "text/plain": [
       "<matplotlib.collections.PathCollection at 0x20cbaf126d0>"
      ]
     },
     "execution_count": 70,
     "metadata": {},
     "output_type": "execute_result"
    },
    {
     "data": {
      "image/png": "[encoded data removed]",
      "text/plain": [
       "<Figure size 432x288 with 1 Axes>"
      ]
     },
     "metadata": {
      "needs_background": "light"
     },
     "output_type": "display_data"
    }
   ],
   "source": [
    "import numpy as np\n",
    "import matplotlib.pyplot as plt\n",
    "%matplotlib inline\n",
    "\n",
    "np.random.seed(0)\n",
    "# y = 4X + 6 식을 근사(w1=4, w0=6), random 값은 Noise를 위해 만듦\n",
    "X = 2 * np.random.rand(100,1)\n",
    "y = 6 + 4 * X + np.random.randn(100,1)\n",
    "\n",
    "# X, y 데이터 셋 scatter plot으로 시각화\n",
    "plt.scatter(X,y)"
   ]
  },
  {
   "cell_type": "markdown",
   "id": "e09dd081",
   "metadata": {},
   "source": [
    "**w0과 w1의 값을 최소화 할 수 있도록 업데이트 수행하는 함수 생성.**\n",
    "\n",
    "* 예측 배열 y_pred는 np.dot(X,w1.T)+ w0임 100개의 데이터 X(1,2,...,100)이 있다면 예측값은 w0 + X(1)w1 + X(2)w1+..+X(100)*w1이며, 이는 입력 배열 X와 w1 배열의 내적임.\n",
    "* 새로운 w1과 w0를 update함"
   ]
  },
  {
   "cell_type": "code",
   "execution_count": 72,
   "id": "9f46062d",
   "metadata": {},
   "outputs": [],
   "source": [
    "# w1과 w0를 업데이트 할 w1_update, w0_update를 반환.\n",
    "def get_weigth_updates(w1, w0, S, y, learning_rate=0.01):\n",
    "    N = len(y)\n",
    "# 먼저 w1_update, w0_update를 각각 w1, w0의 shape와 동일한 크기를 가진 0값으로 초기화\n",
    "    w1_update = np.zeros_like(w1)\n",
    "    w0_update = np.zeros_like(w0)\n",
    "# 예측 배열 계산하고 예측과 실제 값의 차이 계산\n",
    "    y_pred = np.dot(X, w1.T) + w0\n",
    "    diff = y - y_pred\n",
    "    \n",
    "# w0_update를 dot 행렬 연산으로 구하기 위해 모두 1값을 가진 행렬 생성\n",
    "    w0_factors = np.ones((N,1))\n",
    "    \n",
    "# w1과 w0를 업데이트할 w1_update와 w0_update 계산\n",
    "    w1_update = -(2/N)*learning_rate*(np.dot(X.T, diff))\n",
    "    w0_update = -(2/N)*learning_rate*(np.dot(w0_factors.T, diff))\n",
    "    \n",
    "    return w1_update, w0_update"
   ]
  },
  {
   "cell_type": "code",
   "execution_count": 73,
   "id": "368fb885",
   "metadata": {},
   "outputs": [
    {
     "name": "stdout",
     "output_type": "stream",
     "text": [
      "(100, 1)\n",
      "(1, 1) (1, 1)\n"
     ]
    },
    {
     "data": {
      "text/plain": [
       "(array([[0.]]), array([[0.]]))"
      ]
     },
     "execution_count": 73,
     "metadata": {},
     "output_type": "execute_result"
    }
   ],
   "source": [
    "w0 = np.zeros((1,1))\n",
    "w1 = np.zeros((1,1))\n",
    "y_pred = np.dot(X, w1.T) + w0\n",
    "diff = y-y_pred\n",
    "print(diff.shape)\n",
    "w0_factors = np.ones((100,1))\n",
    "w1_update = -(2/100)*0.01*(np.dot(X.T, diff))\n",
    "w0_update = -(2/100)*0.01*(np.dot(w0_factors.T, diff))\n",
    "print(w1_update.shape, w0_update.shape)\n",
    "w1, w0"
   ]
  },
  {
   "cell_type": "markdown",
   "id": "c78b59d2",
   "metadata": {},
   "source": [
    "**반복적으로 경사 하강법을 이용하여 get_weight_updates()를 호출하여 w1과 w0를 업데이트 하는 함수 생성**"
   ]
  },
  {
   "cell_type": "code",
   "execution_count": 74,
   "id": "adc6ba00",
   "metadata": {},
   "outputs": [],
   "source": [
    "# 입력 인자 iters로 주어진 횟수만큼 반복적으로 w1과 w0를 업데이트 적용함.\n",
    "def gradient_descent_steps(X, y, iters = 10000):\n",
    "    # w0와 w1을 모두 0으로 초기화.\n",
    "    w0 = np.zeros((1,1))\n",
    "    w1 = np.zeros((1,1))\n",
    "    \n",
    "    # 인자로 주어진 iters 만큼 반복적으로 get_weight_updates() 호출하여 w1, w0 업데이트 수행.\n",
    "    for ind in range(iters):\n",
    "        w1_update, w0_update = get_weigth_updates(w1, w0, X, y, learning_rate=0.01)\n",
    "        w1 = w1 - w1_update\n",
    "        w0 = w0 - w0_update\n",
    "    \n",
    "    return w1, w0"
   ]
  },
  {
   "cell_type": "code",
   "execution_count": 76,
   "id": "cf99a90b",
   "metadata": {},
   "outputs": [
    {
     "name": "stdout",
     "output_type": "stream",
     "text": [
      "w1:4.022, w0:6.162\n",
      "Grandient Descent Total Cost:0.9935\n"
     ]
    }
   ],
   "source": [
    "def get_cost(y, y_pred):\n",
    "    N = len(y)\n",
    "    cost = np.sum(np.square(y - y_pred))/N\n",
    "    return cost\n",
    "\n",
    "w1, w0 = gradient_descent_steps(X, y, iters=1000)\n",
    "print(\"w1:{0:.3f}, w0:{1:.3f}\".format(w1[0,0], w0[0,0]))\n",
    "y_pred = w1[0,0] * X + w0\n",
    "print('Grandient Descent Total Cost:{0:.4f}'.format(get_cost(y, y_pred)))"
   ]
  },
  {
   "cell_type": "code",
   "execution_count": 77,
   "id": "9142dd7b",
   "metadata": {},
   "outputs": [
    {
     "data": {
      "text/plain": [
       "[<matplotlib.lines.Line2D at 0x20cbadfe580>]"
      ]
     },
     "execution_count": 77,
     "metadata": {},
     "output_type": "execute_result"
    },
    {
     "data": {
      "image/png": "[encoded data removed]",
      "text/plain": [
       "<Figure size 432x288 with 1 Axes>"
      ]
     },
     "metadata": {
      "needs_background": "light"
     },
     "output_type": "display_data"
    }
   ],
   "source": [
    "plt.scatter(X, y)\n",
    "plt.plot(X,y_pred)"
   ]
  },
  {
   "cell_type": "code",
   "execution_count": null,
   "id": "c7eb4f58",
   "metadata": {},
   "outputs": [],
   "source": []
  }
 ],
 "metadata": {
  "kernelspec": {
   "display_name": "Python 3",
   "language": "python",
   "name": "python3"
  },
  "language_info": {
   "codemirror_mode": {
    "name": "ipython",
    "version": 3
   },
   "file_extension": ".py",
   "mimetype": "text/x-python",
   "name": "python",
   "nbconvert_exporter": "python",
   "pygments_lexer": "ipython3",
   "version": "3.8.9"
  }
 },
 "nbformat": 4,
 "nbformat_minor": 5
}
