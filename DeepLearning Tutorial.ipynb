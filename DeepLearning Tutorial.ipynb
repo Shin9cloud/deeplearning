{
 "cells": [
  {
   "cell_type": "code",
   "execution_count": 53,
   "id": "90c7e467",
   "metadata": {},
   "outputs": [
    {
     "name": "stdout",
     "output_type": "stream",
     "text": [
      "Epoch 1/100\n",
      "47/47 [==============================] - 0s 576us/step - loss: 0.8781 - accuracy: 0.7774\n",
      "Epoch 2/100\n",
      "47/47 [==============================] - 0s 552us/step - loss: 0.4637 - accuracy: 0.8707\n",
      "Epoch 3/100\n",
      "47/47 [==============================] - 0s 502us/step - loss: 0.4652 - accuracy: 0.8347\n",
      "Epoch 4/100\n",
      "47/47 [==============================] - 0s 526us/step - loss: 0.5176 - accuracy: 0.8405\n",
      "Epoch 5/100\n",
      "47/47 [==============================] - 0s 497us/step - loss: 0.4461 - accuracy: 0.8570\n",
      "Epoch 6/100\n",
      "47/47 [==============================] - 0s 523us/step - loss: 0.4391 - accuracy: 0.8523\n",
      "Epoch 7/100\n",
      "47/47 [==============================] - 0s 503us/step - loss: 0.4616 - accuracy: 0.8443\n",
      "Epoch 8/100\n",
      "47/47 [==============================] - 0s 494us/step - loss: 0.4523 - accuracy: 0.8447\n",
      "Epoch 9/100\n",
      "47/47 [==============================] - 0s 499us/step - loss: 0.3877 - accuracy: 0.8618\n",
      "Epoch 10/100\n",
      "47/47 [==============================] - 0s 501us/step - loss: 0.3944 - accuracy: 0.8697\n",
      "Epoch 11/100\n",
      "47/47 [==============================] - 0s 499us/step - loss: 0.4379 - accuracy: 0.8480\n",
      "Epoch 12/100\n",
      "47/47 [==============================] - 0s 479us/step - loss: 0.4470 - accuracy: 0.8449\n",
      "Epoch 13/100\n",
      "47/47 [==============================] - 0s 477us/step - loss: 0.4789 - accuracy: 0.8302\n",
      "Epoch 14/100\n",
      "47/47 [==============================] - 0s 470us/step - loss: 0.4402 - accuracy: 0.8438\n",
      "Epoch 15/100\n",
      "47/47 [==============================] - 0s 467us/step - loss: 0.4928 - accuracy: 0.8220\n",
      "Epoch 16/100\n",
      "47/47 [==============================] - 0s 482us/step - loss: 0.4119 - accuracy: 0.8534\n",
      "Epoch 17/100\n",
      "47/47 [==============================] - 0s 518us/step - loss: 0.4383 - accuracy: 0.8564\n",
      "Epoch 18/100\n",
      "47/47 [==============================] - 0s 490us/step - loss: 0.4807 - accuracy: 0.8556\n",
      "Epoch 19/100\n",
      "47/47 [==============================] - 0s 499us/step - loss: 0.4253 - accuracy: 0.8459\n",
      "Epoch 20/100\n",
      "47/47 [==============================] - 0s 504us/step - loss: 0.4403 - accuracy: 0.8561\n",
      "Epoch 21/100\n",
      "47/47 [==============================] - 0s 490us/step - loss: 0.4191 - accuracy: 0.8513\n",
      "Epoch 22/100\n",
      "47/47 [==============================] - 0s 535us/step - loss: 0.4100 - accuracy: 0.8554\n",
      "Epoch 23/100\n",
      "47/47 [==============================] - 0s 477us/step - loss: 0.4205 - accuracy: 0.8538\n",
      "Epoch 24/100\n",
      "47/47 [==============================] - 0s 468us/step - loss: 0.4226 - accuracy: 0.8471\n",
      "Epoch 25/100\n",
      "47/47 [==============================] - 0s 473us/step - loss: 0.4349 - accuracy: 0.8394\n",
      "Epoch 26/100\n",
      "47/47 [==============================] - 0s 478us/step - loss: 0.4526 - accuracy: 0.8552\n",
      "Epoch 27/100\n",
      "47/47 [==============================] - 0s 549us/step - loss: 0.4590 - accuracy: 0.8312\n",
      "Epoch 28/100\n",
      "47/47 [==============================] - 0s 519us/step - loss: 0.4469 - accuracy: 0.8461\n",
      "Epoch 29/100\n",
      "47/47 [==============================] - ETA: 0s - loss: 0.2892 - accuracy: 0.90 - 0s 499us/step - loss: 0.3775 - accuracy: 0.8803\n",
      "Epoch 30/100\n",
      "47/47 [==============================] - 0s 499us/step - loss: 0.3581 - accuracy: 0.8892\n",
      "Epoch 31/100\n",
      "47/47 [==============================] - 0s 511us/step - loss: 0.4157 - accuracy: 0.8745\n",
      "Epoch 32/100\n",
      "47/47 [==============================] - 0s 516us/step - loss: 0.4037 - accuracy: 0.8639\n",
      "Epoch 33/100\n",
      "47/47 [==============================] - 0s 498us/step - loss: 0.4367 - accuracy: 0.8560\n",
      "Epoch 34/100\n",
      "47/47 [==============================] - 0s 509us/step - loss: 0.3961 - accuracy: 0.8582\n",
      "Epoch 35/100\n",
      "47/47 [==============================] - 0s 508us/step - loss: 0.4047 - accuracy: 0.8514\n",
      "Epoch 36/100\n",
      "47/47 [==============================] - 0s 516us/step - loss: 0.4423 - accuracy: 0.8340\n",
      "Epoch 37/100\n",
      "47/47 [==============================] - 0s 529us/step - loss: 0.4449 - accuracy: 0.8519\n",
      "Epoch 38/100\n",
      "47/47 [==============================] - 0s 572us/step - loss: 0.4314 - accuracy: 0.8452\n",
      "Epoch 39/100\n",
      "47/47 [==============================] - 0s 519us/step - loss: 0.4797 - accuracy: 0.8291\n",
      "Epoch 40/100\n",
      "47/47 [==============================] - 0s 520us/step - loss: 0.4177 - accuracy: 0.8508\n",
      "Epoch 41/100\n",
      "47/47 [==============================] - 0s 507us/step - loss: 0.4472 - accuracy: 0.8508\n",
      "Epoch 42/100\n",
      "47/47 [==============================] - 0s 546us/step - loss: 0.4340 - accuracy: 0.8517\n",
      "Epoch 43/100\n",
      "47/47 [==============================] - 0s 555us/step - loss: 0.3614 - accuracy: 0.8727\n",
      "Epoch 44/100\n",
      "47/47 [==============================] - 0s 564us/step - loss: 0.3523 - accuracy: 0.8783\n",
      "Epoch 45/100\n",
      "47/47 [==============================] - 0s 559us/step - loss: 0.3800 - accuracy: 0.8555\n",
      "Epoch 46/100\n",
      "47/47 [==============================] - 0s 529us/step - loss: 0.4116 - accuracy: 0.8546\n",
      "Epoch 47/100\n",
      "47/47 [==============================] - 0s 547us/step - loss: 0.3496 - accuracy: 0.8812\n",
      "Epoch 48/100\n",
      "47/47 [==============================] - 0s 518us/step - loss: 0.3902 - accuracy: 0.8645\n",
      "Epoch 49/100\n",
      "47/47 [==============================] - 0s 514us/step - loss: 0.4169 - accuracy: 0.8361\n",
      "Epoch 50/100\n",
      "47/47 [==============================] - 0s 555us/step - loss: 0.3604 - accuracy: 0.8783\n",
      "Epoch 51/100\n",
      "47/47 [==============================] - 0s 542us/step - loss: 0.4260 - accuracy: 0.8457\n",
      "Epoch 52/100\n",
      "47/47 [==============================] - 0s 528us/step - loss: 0.4176 - accuracy: 0.8520\n",
      "Epoch 53/100\n",
      "47/47 [==============================] - 0s 514us/step - loss: 0.4213 - accuracy: 0.8481\n",
      "Epoch 54/100\n",
      "47/47 [==============================] - 0s 525us/step - loss: 0.4200 - accuracy: 0.8348\n",
      "Epoch 55/100\n",
      "47/47 [==============================] - 0s 567us/step - loss: 0.4092 - accuracy: 0.8632\n",
      "Epoch 56/100\n",
      "47/47 [==============================] - 0s 563us/step - loss: 0.3982 - accuracy: 0.8476\n",
      "Epoch 57/100\n",
      "47/47 [==============================] - 0s 519us/step - loss: 0.4001 - accuracy: 0.8525\n",
      "Epoch 58/100\n",
      "47/47 [==============================] - 0s 478us/step - loss: 0.3528 - accuracy: 0.8703\n",
      "Epoch 59/100\n",
      "47/47 [==============================] - 0s 490us/step - loss: 0.4201 - accuracy: 0.8475\n",
      "Epoch 60/100\n",
      "47/47 [==============================] - 0s 477us/step - loss: 0.3578 - accuracy: 0.8774\n",
      "Epoch 61/100\n",
      "47/47 [==============================] - 0s 485us/step - loss: 0.3907 - accuracy: 0.8725\n",
      "Epoch 62/100\n",
      "47/47 [==============================] - 0s 470us/step - loss: 0.4215 - accuracy: 0.8389\n",
      "Epoch 63/100\n",
      "47/47 [==============================] - 0s 477us/step - loss: 0.3711 - accuracy: 0.8686\n",
      "Epoch 64/100\n",
      "47/47 [==============================] - 0s 486us/step - loss: 0.4243 - accuracy: 0.8525\n",
      "Epoch 65/100\n",
      "47/47 [==============================] - 0s 519us/step - loss: 0.3775 - accuracy: 0.8639\n",
      "Epoch 66/100\n",
      "47/47 [==============================] - 0s 480us/step - loss: 0.4256 - accuracy: 0.8517\n",
      "Epoch 67/100\n",
      "47/47 [==============================] - 0s 507us/step - loss: 0.3803 - accuracy: 0.8612\n",
      "Epoch 68/100\n",
      "47/47 [==============================] - 0s 502us/step - loss: 0.4071 - accuracy: 0.8624\n",
      "Epoch 69/100\n",
      "47/47 [==============================] - 0s 513us/step - loss: 0.4336 - accuracy: 0.8197\n",
      "Epoch 70/100\n",
      "47/47 [==============================] - 0s 524us/step - loss: 0.4068 - accuracy: 0.8519\n",
      "Epoch 71/100\n",
      "47/47 [==============================] - 0s 520us/step - loss: 0.4412 - accuracy: 0.8194\n",
      "Epoch 72/100\n",
      "47/47 [==============================] - 0s 499us/step - loss: 0.3777 - accuracy: 0.8554\n",
      "Epoch 73/100\n",
      "47/47 [==============================] - 0s 499us/step - loss: 0.4042 - accuracy: 0.8489\n",
      "Epoch 74/100\n",
      "47/47 [==============================] - 0s 491us/step - loss: 0.3783 - accuracy: 0.8595\n",
      "Epoch 75/100\n",
      "47/47 [==============================] - 0s 503us/step - loss: 0.3516 - accuracy: 0.8812\n",
      "Epoch 76/100\n",
      "47/47 [==============================] - 0s 557us/step - loss: 0.3733 - accuracy: 0.8629\n",
      "Epoch 77/100\n",
      "47/47 [==============================] - 0s 501us/step - loss: 0.4473 - accuracy: 0.8247\n",
      "Epoch 78/100\n",
      "47/47 [==============================] - 0s 551us/step - loss: 0.3992 - accuracy: 0.8696\n",
      "Epoch 79/100\n",
      "47/47 [==============================] - 0s 499us/step - loss: 0.4184 - accuracy: 0.8299\n",
      "Epoch 80/100\n",
      "47/47 [==============================] - 0s 508us/step - loss: 0.4250 - accuracy: 0.8335\n"
     ]
    },
    {
     "name": "stdout",
     "output_type": "stream",
     "text": [
      "Epoch 81/100\n",
      "47/47 [==============================] - 0s 495us/step - loss: 0.3712 - accuracy: 0.8793\n",
      "Epoch 82/100\n",
      "47/47 [==============================] - 0s 492us/step - loss: 0.4214 - accuracy: 0.8487\n",
      "Epoch 83/100\n",
      "47/47 [==============================] - 0s 503us/step - loss: 0.4450 - accuracy: 0.8381\n",
      "Epoch 84/100\n",
      "47/47 [==============================] - 0s 499us/step - loss: 0.3537 - accuracy: 0.8840\n",
      "Epoch 85/100\n",
      "47/47 [==============================] - 0s 494us/step - loss: 0.3822 - accuracy: 0.8617\n",
      "Epoch 86/100\n",
      "47/47 [==============================] - 0s 484us/step - loss: 0.3410 - accuracy: 0.8688\n",
      "Epoch 87/100\n",
      "47/47 [==============================] - 0s 477us/step - loss: 0.3933 - accuracy: 0.8567\n",
      "Epoch 88/100\n",
      "47/47 [==============================] - 0s 495us/step - loss: 0.3747 - accuracy: 0.8538\n",
      "Epoch 89/100\n",
      "47/47 [==============================] - 0s 477us/step - loss: 0.3942 - accuracy: 0.8320\n",
      "Epoch 90/100\n",
      "47/47 [==============================] - 0s 491us/step - loss: 0.3722 - accuracy: 0.8768\n",
      "Epoch 91/100\n",
      "47/47 [==============================] - 0s 497us/step - loss: 0.4208 - accuracy: 0.8516\n",
      "Epoch 92/100\n",
      "47/47 [==============================] - 0s 483us/step - loss: 0.4239 - accuracy: 0.8407\n",
      "Epoch 93/100\n",
      "47/47 [==============================] - 0s 485us/step - loss: 0.4079 - accuracy: 0.8362\n",
      "Epoch 94/100\n",
      "47/47 [==============================] - 0s 488us/step - loss: 0.3913 - accuracy: 0.8367\n",
      "Epoch 95/100\n",
      "47/47 [==============================] - 0s 520us/step - loss: 0.4023 - accuracy: 0.8584\n",
      "Epoch 96/100\n",
      "47/47 [==============================] - 0s 499us/step - loss: 0.4342 - accuracy: 0.8596\n",
      "Epoch 97/100\n",
      "47/47 [==============================] - 0s 499us/step - loss: 0.4469 - accuracy: 0.8137\n",
      "Epoch 98/100\n",
      "47/47 [==============================] - 0s 481us/step - loss: 0.3893 - accuracy: 0.8690\n",
      "Epoch 99/100\n",
      "47/47 [==============================] - 0s 478us/step - loss: 0.3737 - accuracy: 0.8620\n",
      "Epoch 100/100\n",
      "47/47 [==============================] - 0s 503us/step - loss: 0.3956 - accuracy: 0.8330\n"
     ]
    },
    {
     "data": {
      "text/plain": [
       "<tensorflow.python.keras.callbacks.History at 0x1c7df7ea760>"
      ]
     },
     "execution_count": 53,
     "metadata": {},
     "output_type": "execute_result"
    }
   ],
   "source": [
    "from tensorflow.keras.models import Sequential\n",
    "from tensorflow.keras.layers import Dense\n",
    "import numpy as np\n",
    "import tensorflow as tf\n",
    "np.random.seed(3)\n",
    "tf.random.set_seed(3)\n",
    "\n",
    "Data_set = np.loadtxt(\"ThoraricSurgery.csv\" , delimiter=\",\")\n",
    "Data_set.shape\n",
    "# read.csv(pandas라입이용) 과 같은 불러오기 기능\n",
    "\n",
    "X = Data_set[:, 0:17]\n",
    "Y = Data_set[:, 17]\n",
    "# 사용할 데이터 선택\n",
    "\n",
    "## 밑으로는 항상 쓰는 코드 (날코딩으로 하면 몇백줄 > 효율적인 라이브러리)\n",
    "\n",
    "model = Sequential()\n",
    "# 시퀀셜 - 신경망 만들기\n",
    "model.add(Dense(30, input_dim=17, activation='relu'))\n",
    "# 신경망(은닉층) 30개, 17개 속성, 값들이 신경망안에서 relu에 의해 변환\n",
    "model.add(Dense(1,  activation='sigmoid'))\n",
    "#값 1개, 오차 처리는 sigmoid\n",
    "model.compile(loss=\"binary_crossentropy\", optimizer=\"adam\" , metrics=['accuracy'])\n",
    "model.fit(X, Y , epochs=100, batch_size=10)\n",
    "# 학습 사이즈 10"
   ]
  },
  {
   "cell_type": "code",
   "execution_count": 54,
   "id": "35df42e9",
   "metadata": {},
   "outputs": [
    {
     "name": "stdout",
     "output_type": "stream",
     "text": [
      "Epoch 1/30\n",
      "200/200 [==============================] - 1s 456us/step - loss: 7.3001 - mse: 7.3001\n",
      "Epoch 2/30\n",
      "200/200 [==============================] - 0s 388us/step - loss: 0.1786 - mse: 0.1786\n",
      "Epoch 3/30\n",
      "200/200 [==============================] - 0s 387us/step - loss: 0.2220 - mse: 0.2220\n",
      "Epoch 4/30\n",
      "200/200 [==============================] - 0s 373us/step - loss: 0.1981 - mse: 0.1981\n",
      "Epoch 5/30\n",
      "200/200 [==============================] - 0s 375us/step - loss: 0.1338 - mse: 0.1338\n",
      "Epoch 6/30\n",
      "200/200 [==============================] - 0s 392us/step - loss: 0.1325 - mse: 0.1325\n",
      "Epoch 7/30\n",
      "200/200 [==============================] - 0s 405us/step - loss: 0.1126 - mse: 0.1126\n",
      "Epoch 8/30\n",
      "200/200 [==============================] - 0s 376us/step - loss: 0.1068 - mse: 0.1068\n",
      "Epoch 9/30\n",
      "200/200 [==============================] - 0s 389us/step - loss: 0.1285 - mse: 0.1285\n",
      "Epoch 10/30\n",
      "200/200 [==============================] - 0s 391us/step - loss: 0.1045 - mse: 0.1045\n",
      "Epoch 11/30\n",
      "200/200 [==============================] - 0s 396us/step - loss: 0.1090 - mse: 0.1090\n",
      "Epoch 12/30\n",
      "200/200 [==============================] - 0s 386us/step - loss: 0.1061 - mse: 0.1061\n",
      "Epoch 13/30\n",
      "200/200 [==============================] - 0s 387us/step - loss: 0.1057 - mse: 0.1057 \n",
      "Epoch 14/30\n",
      "200/200 [==============================] - 0s 370us/step - loss: 0.0909 - mse: 0.0909\n",
      "Epoch 15/30\n",
      "200/200 [==============================] - 0s 390us/step - loss: 0.1071 - mse: 0.1071\n",
      "Epoch 16/30\n",
      "200/200 [==============================] - 0s 384us/step - loss: 0.0935 - mse: 0.0935\n",
      "Epoch 17/30\n",
      "200/200 [==============================] - 0s 388us/step - loss: 0.1013 - mse: 0.1013\n",
      "Epoch 18/30\n",
      "200/200 [==============================] - 0s 385us/step - loss: 0.1081 - mse: 0.1081\n",
      "Epoch 19/30\n",
      "200/200 [==============================] - 0s 392us/step - loss: 0.0907 - mse: 0.0907\n",
      "Epoch 20/30\n",
      "200/200 [==============================] - 0s 390us/step - loss: 0.1063 - mse: 0.1063\n",
      "Epoch 21/30\n",
      "200/200 [==============================] - 0s 390us/step - loss: 0.0984 - mse: 0.0984\n",
      "Epoch 22/30\n",
      "200/200 [==============================] - 0s 387us/step - loss: 0.0840 - mse: 0.0840\n",
      "Epoch 23/30\n",
      "200/200 [==============================] - 0s 378us/step - loss: 0.0907 - mse: 0.0907\n",
      "Epoch 24/30\n",
      "200/200 [==============================] - 0s 383us/step - loss: 0.0927 - mse: 0.0927 \n",
      "Epoch 25/30\n",
      "200/200 [==============================] - 0s 370us/step - loss: 0.0895 - mse: 0.0895 \n",
      "Epoch 26/30\n",
      "200/200 [==============================] - 0s 386us/step - loss: 0.0932 - mse: 0.0932\n",
      "Epoch 27/30\n",
      "200/200 [==============================] - 0s 404us/step - loss: 0.0810 - mse: 0.0810\n",
      "Epoch 28/30\n",
      "200/200 [==============================] - 0s 380us/step - loss: 0.0863 - mse: 0.0863\n",
      "Epoch 29/30\n",
      "200/200 [==============================] - 0s 395us/step - loss: 0.0988 - mse: 0.0988\n",
      "Epoch 30/30\n",
      "200/200 [==============================] - 0s 379us/step - loss: 0.0852 - mse: 0.0852\n"
     ]
    },
    {
     "data": {
      "image/png": "[encoded data removed]",
      "text/plain": [
       "<Figure size 432x288 with 1 Axes>"
      ]
     },
     "metadata": {
      "needs_background": "light"
     },
     "output_type": "display_data"
    }
   ],
   "source": [
    "## 강의교재(딥러닝기초).pdf 34쪽 참조\n",
    "# 지도학습으로 딥러닝\n",
    "\n",
    "from tensorflow.keras.models import Sequential\n",
    "from tensorflow.keras.layers import Dense\n",
    "\n",
    "import numpy as np\n",
    "import tensorflow as tf\n",
    "from matplotlib import pyplot as plt\n",
    "\n",
    "X = data = np.linspace(1,2,200)\n",
    "# X.shape\n",
    "# print(X)\n",
    "Y= X*4 + np.random.randn(200) * 0.3\n",
    "# Y\n",
    "# print(Y)\n",
    "### 지도학습\n",
    "\n",
    "model = Sequential()\n",
    "model.add(Dense(1, input_dim = 1, activation= 'linear'))\n",
    "# 선형회귀라서 input_dim : 1\n",
    "model.compile(optimizer='sgd', loss = 'mse', metrics=['mse'])\n",
    "# sgd = 확률적 경사 하강법(Stochastic Gradient Descent, SGD)\n",
    "model.fit(X, Y, batch_size=1, epochs=30 )#, verbose = 0) # 학습하는 과정을 보여주는 파라미터 verbose\n",
    "\n",
    "predict = model.predict(data)\n",
    "# predict = model.predict([X[1]])\n",
    "# predict = model.predict([3,4])\n",
    "# predict = model.predict([190])\n",
    "# predict\n",
    "# print(predict)\n",
    "## ((3.33805466-3.977989)**2)**0.5\n",
    "\n",
    "plt.plot(data, predict, 'b', data, Y, 'k.')\n",
    "plt.show()"
   ]
  },
  {
   "cell_type": "markdown",
   "id": "8637c925",
   "metadata": {},
   "source": [
    "##### 선형회귀"
   ]
  },
  {
   "cell_type": "code",
   "execution_count": 55,
   "id": "206d8b38",
   "metadata": {},
   "outputs": [
    {
     "name": "stdout",
     "output_type": "stream",
     "text": [
      "5.0 90.5\n"
     ]
    },
    {
     "data": {
      "text/plain": [
       "20.0"
      ]
     },
     "execution_count": 55,
     "metadata": {},
     "output_type": "execute_result"
    }
   ],
   "source": [
    "import numpy as np\n",
    "\n",
    "x = [2,4,6,8]\n",
    "y = [81,93,91,97]\n",
    "\n",
    "# x, y의 mean\n",
    "mx = np.mean(x)\n",
    "my = np.mean(y)\n",
    "\n",
    "print(mx, my)\n",
    "\n",
    "# list_arr = []\n",
    "# for i in x:\n",
    "    \n",
    "#     a = (mx-i)**2\n",
    "#     list_arr.append(a)\n",
    "#     divisor = sum(list_arr)\n",
    "    \n",
    "divisor = sum((mx-i)**2 for i in x)\n",
    "\n",
    "divisor"
   ]
  },
  {
   "cell_type": "code",
   "execution_count": 56,
   "id": "590831b8",
   "metadata": {},
   "outputs": [],
   "source": [
    "# def top(x, mx, y, my):\n",
    "#     d = 0\n",
    "#     for i in range(len(x)):  ## len(x) =4 ~excel count함수와 같은기능\n",
    "#         d += (x[i] - mx) * (y[i] - my)\n",
    "#     return d\n",
    "# dividend = top(x, mx, y, my)\n",
    "\n",
    "# print(\"분모:\", divisor)\n",
    "# print(\"분자:\", dividend)"
   ]
  },
  {
   "cell_type": "code",
   "execution_count": 57,
   "id": "e137f792",
   "metadata": {},
   "outputs": [
    {
     "data": {
      "text/plain": [
       "46.0"
      ]
     },
     "execution_count": 57,
     "metadata": {},
     "output_type": "execute_result"
    }
   ],
   "source": [
    "def top(x, mx, y, my):\n",
    "    d = sum((mx-x[i])*(my-y[i]) for i in range(len(x)))\n",
    "    return d\n",
    "top(x, mx, y, my)"
   ]
  },
  {
   "cell_type": "code",
   "execution_count": 58,
   "id": "bc332c9e",
   "metadata": {},
   "outputs": [
    {
     "name": "stdout",
     "output_type": "stream",
     "text": [
      "2.3\n",
      "79.0\n"
     ]
    }
   ],
   "source": [
    "dividend = top(x, mx, y, my)\n",
    "a = dividend/divisor\n",
    "\n",
    "b = my - (mx*a)\n",
    "print(a)\n",
    "print(b)"
   ]
  },
  {
   "cell_type": "code",
   "execution_count": 59,
   "id": "811fe25f",
   "metadata": {
    "scrolled": true
   },
   "outputs": [
    {
     "data": {
      "image/png": "[encoded data removed]",
      "text/plain": [
       "<Figure size 432x288 with 1 Axes>"
      ]
     },
     "metadata": {
      "needs_background": "light"
     },
     "output_type": "display_data"
    }
   ],
   "source": [
    "import matplotlib.pyplot as plt\n",
    "\n",
    "plt.scatter(x, y)\n",
    "plt.show()"
   ]
  },
  {
   "cell_type": "code",
   "execution_count": 60,
   "id": "28e0a887",
   "metadata": {},
   "outputs": [
    {
     "data": {
      "text/plain": [
       "<matplotlib.legend.Legend at 0x1c7df777c40>"
      ]
     },
     "execution_count": 60,
     "metadata": {},
     "output_type": "execute_result"
    },
    {
     "data": {
      "image/png": "[encoded data removed]",
      "text/plain": [
       "<Figure size 432x288 with 1 Axes>"
      ]
     },
     "metadata": {
      "needs_background": "light"
     },
     "output_type": "display_data"
    }
   ],
   "source": [
    "import matplotlib.pyplot as plt\n",
    "\n",
    "plt.scatter(x, y, label = 'REal')\n",
    "plt.legend()"
   ]
  },
  {
   "cell_type": "code",
   "execution_count": 61,
   "id": "79f0d8d3",
   "metadata": {},
   "outputs": [
    {
     "name": "stdout",
     "output_type": "stream",
     "text": [
      "2.3\n",
      "79.0\n"
     ]
    },
    {
     "data": {
      "text/plain": [
       "<matplotlib.legend.Legend at 0x1c7df39dd60>"
      ]
     },
     "execution_count": 61,
     "metadata": {},
     "output_type": "execute_result"
    },
    {
     "data": {
      "image/png": "[encoded data removed]",
      "text/plain": [
       "<Figure size 432x288 with 1 Axes>"
      ]
     },
     "metadata": {
      "needs_background": "light"
     },
     "output_type": "display_data"
    }
   ],
   "source": [
    "import matplotlib.pyplot as plt\n",
    "\n",
    "print(a);print(b)\n",
    "predict = []\n",
    "\n",
    "for i in x:\n",
    "    pre_y = a*i+b\n",
    "    predict.append(pre_y)\n",
    "\n",
    "plt.scatter(x, y, label = 'real') ## 산점도 그리기\n",
    "plt.plot(x, predict, c = 'r', label = \"predict\") ## 직선 그래프 그리기\n",
    "plt.legend() ## 라벨(범례값) 달땐 .legend"
   ]
  },
  {
   "cell_type": "code",
   "execution_count": 62,
   "id": "a12b26cd",
   "metadata": {},
   "outputs": [
    {
     "name": "stdout",
     "output_type": "stream",
     "text": [
      "11.0\n"
     ]
    }
   ],
   "source": [
    "## 강의교재(딥러닝기초).pdf 65쪽 참조\n",
    "\n",
    "import numpy as np\n",
    "\n",
    "# 가상의 기울기 a와 y 절편 b\n",
    "fake_a_b = [3, 76]\n",
    "# fake_a_b = [2.3, 79]\n",
    "## 임의로 정한 기울기 a와 y절편 b의 값이 각각 3, 76 \n",
    "\n",
    "# x값과 y값\n",
    "data = [[2,81],[4,93],[6,91],[8,97]]\n",
    "x = [i[0] for i in data]\n",
    "y = [i[1] for i in data]\n",
    "## 공부한 시간 x 리스트와 성적 y 리스트를 만든다.\n",
    "\n",
    "# y = ax + b에 a,b 값 대입하여 결과를 출력하는 함수\n",
    "def predict(x):\n",
    "    return fake_a_b[0]*x +fake_a_b[1]\n",
    "## 일차방정식 y=ax+b를 구현하는 함수 : predict\n",
    "\n",
    "# MSE 함수\n",
    "def mse(y, y_hat):\n",
    "    return ((y-y_hat)**2).mean()\n",
    "## 평균제곱오차(mse)를 계산해주는 함수 : mse\n",
    "\n",
    "# MSE 함수를 각 y값에 대입하여 최종 값을 구하는 함수\n",
    "def mse_val(y, predict_result):\n",
    "    return mse(np.array(y), np.array(predict_result))\n",
    "\n",
    "# 예측값이 들어갈 빈 리스트\n",
    "predict_result = []\n",
    "\n",
    "# 모든 x값을 한 번씩 대입하여 predict_result 리스트완성.\n",
    "for i in range(len(x)):\n",
    "    predict_result.append(predict(x[i]))\n",
    "## 처음 가정한 a=3, b=76은 오차가 약 11.0 이라는 것 확인\n",
    "## 앞으로 할 일\n",
    "## - 이 오차를 줄이는 새로운 선 긋기\n",
    "## - a와 b의 값을 적절히 조절하면서 오차의 변화를 살펴보고, 그 오차가 최소화되는 a, b 구하기\n",
    "## -> 경사 하강법\n",
    "\n",
    "# 최종 MSE 출력\n",
    "print(mse_val(predict_result, y))"
   ]
  },
  {
   "cell_type": "markdown",
   "id": "ece8d4f5",
   "metadata": {},
   "source": [
    "##### 경사 하강법"
   ]
  },
  {
   "cell_type": "code",
   "execution_count": 63,
   "id": "02665ef7",
   "metadata": {},
   "outputs": [],
   "source": [
    "y_pred = a * x_data + b\n",
    "error = y_data - y_pred\n",
    "\n",
    "a_diff = -(2 / len(x_data)) * sum(x_data * (error))\n",
    "b_diff = -(2 / len(x_data)) * sum(y_data * y_pred)\n",
    "\n",
    "a = a - lr * a_diff\n",
    "b = b - lr * b_diff"
   ]
  },
  {
   "cell_type": "code",
   "execution_count": 64,
   "id": "984b615d",
   "metadata": {},
   "outputs": [
    {
     "data": {
      "image/png": "[encoded data removed]",
      "text/plain": [
       "<Figure size 576x360 with 1 Axes>"
      ]
     },
     "metadata": {
      "needs_background": "light"
     },
     "output_type": "display_data"
    }
   ],
   "source": [
    "import numpy as np\n",
    "import pandas as pd\n",
    "import matplotlib.pyplot as plt\n",
    "\n",
    "# 공부시간 x와 성적 y의 리스트를 만듭니다.\n",
    "data= [[2,81],[4,93],[6,91],[8,97]]\n",
    "x = [i[0] for i in data]\n",
    "y = [i[1] for i in data]\n",
    "\n",
    "# 그래프로 나타내 봅니다.\n",
    "plt.figure(figsize=(8,5))\n",
    "plt.scatter(x,y)\n",
    "plt.show()"
   ]
  },
  {
   "cell_type": "code",
   "execution_count": 65,
   "id": "a64f58f8",
   "metadata": {
    "scrolled": false
   },
   "outputs": [
    {
     "data": {
      "image/png": "[encoded data removed]",
      "text/plain": [
       "<Figure size 576x360 with 1 Axes>"
      ]
     },
     "metadata": {
      "needs_background": "light"
     },
     "output_type": "display_data"
    },
    {
     "name": "stdout",
     "output_type": "stream",
     "text": [
      "epoch=0, 기울기=27.8400, 절편=5.4300\n",
      "epoch=100, 기울기=7.0739, 절편=50.5117\n",
      "epoch=200, 기울기=4.0960, 절편=68.2822\n",
      "epoch=300, 기울기=2.9757, 절편=74.9678\n",
      "epoch=400, 기울기=2.5542, 절편=77.4830\n",
      "epoch=500, 기울기=2.3956, 절편=78.4293\n",
      "epoch=600, 기울기=2.3360, 절편=78.7853\n",
      "epoch=700, 기울기=2.3135, 절편=78.9192\n",
      "epoch=800, 기울기=2.3051, 절편=78.9696\n",
      "epoch=900, 기울기=2.3019, 절편=78.9886\n",
      "epoch=1000, 기울기=2.3007, 절편=78.9957\n",
      "epoch=1100, 기울기=2.3003, 절편=78.9984\n",
      "epoch=1200, 기울기=2.3001, 절편=78.9994\n",
      "epoch=1300, 기울기=2.3000, 절편=78.9998\n",
      "epoch=1400, 기울기=2.3000, 절편=78.9999\n",
      "epoch=1500, 기울기=2.3000, 절편=79.0000\n",
      "epoch=1600, 기울기=2.3000, 절편=79.0000\n",
      "epoch=1700, 기울기=2.3000, 절편=79.0000\n",
      "epoch=1800, 기울기=2.3000, 절편=79.0000\n",
      "epoch=1900, 기울기=2.3000, 절편=79.0000\n",
      "epoch=2000, 기울기=2.3000, 절편=79.0000\n"
     ]
    }
   ],
   "source": [
    "## 알고리즘 날코딩\n",
    "\n",
    "import numpy as np\n",
    "import pandas as pd\n",
    "import matplotlib.pyplot as plt\n",
    "\n",
    "data = [[2, 81],[4, 93],[6, 91],[8, 97]]\n",
    "x = [i[0] for i in data]\n",
    "y = [i[1] for i in data]\n",
    "\n",
    "plt.figure(figsize=(8 ,5))\n",
    "plt.scatter(x, y)\n",
    "plt.show()\n",
    "##############################################################################\n",
    "\n",
    "# 리스트로 되어 있는 x와 y값을 넘파이 배열로 변경\n",
    "x_data = np.array(x)\n",
    "y_data = np.array(y)\n",
    "\n",
    "# 기울기 a와 절편 b 초기화\n",
    "a = 0 \n",
    "b = 0\n",
    "\n",
    "#학습률 정의\n",
    "lr = 0.03\n",
    "\n",
    "#학습 반복 설정\n",
    "epochs = 2001\n",
    "\n",
    "#경사 하강법 실행\n",
    "for i in range(epochs): \n",
    "    y_hat =  a * x_data + b  # epoch 수 만큼 반복\n",
    "    error = y_data - y_hat # 오차를 구하는 식\n",
    "    a_diff = -(2/len(x_data)) * sum(x_data *(error)) # 오차함수를 a로 미분한 값\n",
    "    b_diff = -(2/len(x_data)) * sum(error) # 오차함수를 b로 미분한 값\n",
    "    a = a - lr * a_diff # 학습률을 곱해 기존의 a값을 업데이트\n",
    "    b = b - lr * b_diff # 학습률을 곱해 기존의 b값을 업데이트\n",
    "    if i % 100 == 0: # 100번 반복될 때마다 현재의 epoch , a, b값을 출력\n",
    "        print(\"epoch=%.f, 기울기=%.04f, 절편=%.04f\"  % (i, a, b)) "
   ]
  },
  {
   "cell_type": "code",
   "execution_count": 66,
   "id": "dfb89003",
   "metadata": {},
   "outputs": [
    {
     "name": "stdout",
     "output_type": "stream",
     "text": [
      "epoch = 0 기울기 = 27.84 절편 = 5.43\n",
      "epoch = 100 기울기 = 7.073858435872394 절편 = 50.51166161138297\n",
      "epoch = 200 기울기 = 4.095999380762421 절편 = 68.28224379060177\n",
      "epoch = 300 기울기 = 2.9756829100119027 절편 = 74.96781336233505\n",
      "epoch = 400 기울기 = 2.5542024233262106 절편 = 77.48302865233052\n",
      "epoch = 500 기울기 = 2.3956349066513707 절편 = 78.42929177728175\n",
      "epoch = 600 기울기 = 2.3359793398132864 절편 = 78.78529068727728\n",
      "epoch = 700 기울기 = 2.313535987420573 절편 = 78.91922301600925\n",
      "epoch = 800 기울기 = 2.3050924490666174 절편 = 78.96961044185792\n",
      "epoch = 900 기울기 = 2.3019158585694823 절편 = 78.98856697541248\n",
      "epoch = 1000 기울기 = 2.3007207758016315 절편 = 78.99569871827002\n",
      "epoch = 1100 기울기 = 2.300271167070735 절편 = 78.99838179089187\n",
      "epoch = 1200 기울기 = 2.3001020172709508 절편 = 78.9993912045567\n",
      "epoch = 1300 기울기 = 2.300038380484562 절편 = 78.99977096168232\n",
      "epoch = 1400 기울기 = 2.3000144393354365 절편 = 78.9999138322214\n",
      "epoch = 1500 기울기 = 2.3000054323026444 절편 = 78.99996758234106\n",
      "epoch = 1600 기울기 = 2.300002043716771 절편 = 78.99998780397235\n",
      "epoch = 1700 기울기 = 2.3000007688780433 절편 = 78.99999541166466\n",
      "epoch = 1800 기울기 = 2.300000289263884 절편 = 78.99999827379686\n",
      "epoch = 1900 기울기 = 2.3000001088255795 절편 = 78.9999993505755\n",
      "epoch = 2000 기울기 = 2.3000000409418653 절편 = 78.99999975567644\n"
     ]
    }
   ],
   "source": [
    "#리스트로 되어있는 x와 y값을 학습을 위해 넘파이 배열로 바꾸어줌.\n",
    "#인덱스를 주어 하나씩 불러와 계산이 가능해 지도록 하기 위함.\n",
    "x_data = np.array(x)\n",
    "y_data = np.array(y)\n",
    "\n",
    "#기울기 a와 절편 b의 값을 초기화\n",
    "a = 0\n",
    "b = 0\n",
    "\n",
    "#학습률 0.03\n",
    "lr = 0.03\n",
    "\n",
    "#몇 번 반복될지 설정함. 여기선 경사하강법 횟수\n",
    "epochs = 2001\n",
    "\n",
    "#경사하강법 시작\n",
    "for i in range(epochs):\n",
    "    y_hat = a * x_data +b # y를 구하는 식\n",
    "    error = y_data - y_hat #오차 구하는 식\n",
    "    a_diff = -(2/len(x_data) * sum(x_data * (error))) #오차함수를 a로 미분한 값\n",
    "    b_diff = -(2/len(x_data) * sum(error)) #오차함수를 b로 미분한 값\n",
    "    a = a - lr * a_diff #학습률을 곱해 기존의 a값을 업데이트\n",
    "    b = b - lr * b_diff #학습률을 곱해 기존의 b값을 업데이트\n",
    "    if i % 100 == 0: #100번 반복될 때마다 현재의 epoch , a, b값을 출력\n",
    "        print(f'epoch = {i} 기울기 = {a} 절편 = {b}')"
   ]
  },
  {
   "cell_type": "code",
   "execution_count": 67,
   "id": "a593ae27",
   "metadata": {},
   "outputs": [
    {
     "data": {
      "text/plain": [
       "<matplotlib.collections.PathCollection at 0x1c7e0ae3eb0>"
      ]
     },
     "execution_count": 67,
     "metadata": {},
     "output_type": "execute_result"
    },
    {
     "data": {
      "image/png": "[encoded data removed]",
      "text/plain": [
       "<Figure size 432x288 with 1 Axes>"
      ]
     },
     "metadata": {
      "needs_background": "light"
     },
     "output_type": "display_data"
    }
   ],
   "source": [
    "import numpy as np\n",
    "import matplotlib.pyplot as plt\n",
    "%matplotlib inline\n",
    "\n",
    "np.random.seed(0)\n",
    "# y = 4X + 6 식을 근사(w1=4, w0=6), random 값은 Noise를 위해 만듦\n",
    "X = 2 * np.random.rand(100,1)\n",
    "y = 6 + 4 * X + np.random.randn(100,1)\n",
    "\n",
    "# X, y 데이터 셋 scatter plot으로 시각화\n",
    "plt.scatter(X,y)"
   ]
  },
  {
   "cell_type": "markdown",
   "id": "e09dd081",
   "metadata": {},
   "source": [
    "**w0과 w1의 값을 최소화 할 수 있도록 업데이트 수행하는 함수 생성.**\n",
    "\n",
    "* 예측 배열 y_pred는 np.dot(X,w1.T)+ w0임 100개의 데이터 X(1,2,...,100)이 있다면 예측값은 w0 + X(1)w1 + X(2)w1+..+X(100)*w1이며, 이는 입력 배열 X와 w1 배열의 내적임.\n",
    "* 새로운 w1과 w0를 update함"
   ]
  },
  {
   "cell_type": "code",
   "execution_count": 74,
   "id": "9f46062d",
   "metadata": {},
   "outputs": [],
   "source": [
    "# w1과 w0를 업데이트 할 w1_update, w0_update를 반환.\n",
    "def get_weigth_updates(w1, w0, S, y, learning_rate=0.01):\n",
    "    N = len(y)\n",
    "# 먼저 w1_update, w0_update를 각각 w1, w0의 shape와 동일한 크기를 가진 0값으로 초기화\n",
    "    w1_update = np.zeros_like(w1)\n",
    "    w0_update = np.zeros_like(w0)\n",
    "# 예측 배열 계산하고 예측과 실제 값의 차이 계산\n",
    "    y_pred = np.dot(X, w1.T) + w0\n",
    "    diff = y - y_pred\n",
    "    \n",
    "# w0_update를 dot 행렬 연산으로 구하기 위해 모두 1값을 가진 행렬 생성\n",
    "    w0_factors = np.ones((N,1))\n",
    "    \n",
    "# w1과 w0를 업데이트할 w1_update와 w0_update 계산\n",
    "    w1_update = -(2/N)*learning_rate*(np.dot(X.T, diff))\n",
    "    w0_update = -(2/N)*learning_rate*(np.dot(w0_factors.T, diff))\n",
    "    \n",
    "    return w1_update, w0_update"
   ]
  },
  {
   "cell_type": "code",
   "execution_count": 69,
   "id": "368fb885",
   "metadata": {},
   "outputs": [
    {
     "name": "stdout",
     "output_type": "stream",
     "text": [
      "(100, 1)\n",
      "(1, 1) (1, 1)\n"
     ]
    },
    {
     "data": {
      "text/plain": [
       "(array([[0.]]), array([[0.]]))"
      ]
     },
     "execution_count": 69,
     "metadata": {},
     "output_type": "execute_result"
    }
   ],
   "source": [
    "w0 = np.zeros((1,1))\n",
    "w1 = np.zeros((1,1))\n",
    "y_pred = np.dot(X, w1.T) + w0\n",
    "diff = y-y_pred\n",
    "print(diff.shape)\n",
    "w0_factors = np.ones((100,1))\n",
    "w1_update = -(2/100)*0.01*(np.dot(X.T, diff))\n",
    "w0_update = -(2/100)*0.01*(np.dot(w0_factors.T, diff))\n",
    "print(w1_update.shape, w0_update.shape)\n",
    "w1, w0"
   ]
  },
  {
   "cell_type": "markdown",
   "id": "c78b59d2",
   "metadata": {},
   "source": [
    "**반복적으로 경사 하강법을 이용하여 get_weight_updates()를 호출하여 w1과 w0를 업데이트 하는 함수 생성**"
   ]
  },
  {
   "cell_type": "code",
   "execution_count": 70,
   "id": "adc6ba00",
   "metadata": {},
   "outputs": [],
   "source": [
    "# 입력 인자 iters로 주어진 횟수만큼 반복적으로 w1과 w0를 업데이트 적용함.\n",
    "def gradient_descent_steps(X, y, iters = 10000):\n",
    "    # w0와 w1을 모두 0으로 초기화.\n",
    "    w0 = np.zeros((1,1))\n",
    "    w1 = np.zeros((1,1))\n",
    "    \n",
    "    # 인자로 주어진 iters 만큼 반복적으로 get_weight_updates() 호출하여 w1, w0 업데이트 수행.\n",
    "    for ind in range(iters):\n",
    "        w1_update, w0_update = get_weigth_updates(w1, w0, X, y, learning_rate=0.01)\n",
    "        w1 = w1 - w1_update\n",
    "        w0 = w0 - w0_update\n",
    "    \n",
    "    return w1, w0"
   ]
  },
  {
   "cell_type": "code",
   "execution_count": 71,
   "id": "cf99a90b",
   "metadata": {},
   "outputs": [
    {
     "name": "stdout",
     "output_type": "stream",
     "text": [
      "w1:4.022, w0:6.162\n",
      "Grandient Descent Total Cost:0.9935\n"
     ]
    }
   ],
   "source": [
    "def get_cost(y, y_pred):\n",
    "    N = len(y)\n",
    "    cost = np.sum(np.square(y - y_pred))/N\n",
    "    return cost\n",
    "\n",
    "w1, w0 = gradient_descent_steps(X, y, iters=1000)\n",
    "print(\"w1:{0:.3f}, w0:{1:.3f}\".format(w1[0,0], w0[0,0]))\n",
    "y_pred = w1[0,0] * X + w0\n",
    "print('Grandient Descent Total Cost:{0:.4f}'.format(get_cost(y, y_pred)))"
   ]
  },
  {
   "cell_type": "code",
   "execution_count": 72,
   "id": "9142dd7b",
   "metadata": {},
   "outputs": [
    {
     "data": {
      "text/plain": [
       "[<matplotlib.lines.Line2D at 0x1c7e0b5b490>]"
      ]
     },
     "execution_count": 72,
     "metadata": {},
     "output_type": "execute_result"
    },
    {
     "data": {
      "image/png": "[encoded data removed]",
      "text/plain": [
       "<Figure size 432x288 with 1 Axes>"
      ]
     },
     "metadata": {
      "needs_background": "light"
     },
     "output_type": "display_data"
    }
   ],
   "source": [
    "plt.scatter(X, y)\n",
    "plt.plot(X,y_pred)"
   ]
  },
  {
   "cell_type": "code",
   "execution_count": 78,
   "id": "227b104f",
   "metadata": {
    "scrolled": true
   },
   "outputs": [
    {
     "ename": "NameError",
     "evalue": "name 'get_weight_updates' is not defined",
     "output_type": "error",
     "traceback": [
      "\u001b[1;31m---------------------------------------------------------------------------\u001b[0m",
      "\u001b[1;31mNameError\u001b[0m                                 Traceback (most recent call last)",
      "\u001b[1;32m<ipython-input-78-4644fa4009a9>\u001b[0m in \u001b[0;36m<module>\u001b[1;34m\u001b[0m\n\u001b[0;32m     18\u001b[0m     \u001b[1;32mreturn\u001b[0m \u001b[0mw1\u001b[0m\u001b[1;33m,\u001b[0m \u001b[0mw0\u001b[0m\u001b[1;33m\u001b[0m\u001b[1;33m\u001b[0m\u001b[0m\n\u001b[0;32m     19\u001b[0m \u001b[1;33m\u001b[0m\u001b[0m\n\u001b[1;32m---> 20\u001b[1;33m \u001b[0mw1\u001b[0m\u001b[1;33m,\u001b[0m \u001b[0mw0\u001b[0m \u001b[1;33m=\u001b[0m \u001b[0mstochastic_gradient_descent_steps\u001b[0m\u001b[1;33m(\u001b[0m\u001b[0mX\u001b[0m\u001b[1;33m,\u001b[0m \u001b[0my\u001b[0m\u001b[1;33m,\u001b[0m \u001b[0miters\u001b[0m\u001b[1;33m=\u001b[0m\u001b[1;36m1000\u001b[0m\u001b[1;33m)\u001b[0m\u001b[1;33m\u001b[0m\u001b[1;33m\u001b[0m\u001b[0m\n\u001b[0m\u001b[0;32m     21\u001b[0m \u001b[0mprint\u001b[0m\u001b[1;33m(\u001b[0m\u001b[1;34m\"w1:\"\u001b[0m\u001b[1;33m,\u001b[0m\u001b[0mround\u001b[0m\u001b[1;33m(\u001b[0m\u001b[0mw1\u001b[0m\u001b[1;33m[\u001b[0m\u001b[1;36m0\u001b[0m\u001b[1;33m,\u001b[0m\u001b[1;36m0\u001b[0m\u001b[1;33m]\u001b[0m\u001b[1;33m,\u001b[0m\u001b[1;36m3\u001b[0m\u001b[1;33m)\u001b[0m\u001b[1;33m,\u001b[0m \u001b[1;34m\"w0:\"\u001b[0m\u001b[1;33m,\u001b[0m\u001b[0mround\u001b[0m\u001b[1;33m(\u001b[0m\u001b[0mw0\u001b[0m\u001b[1;33m[\u001b[0m\u001b[1;36m0\u001b[0m\u001b[1;33m,\u001b[0m\u001b[1;36m0\u001b[0m\u001b[1;33m]\u001b[0m\u001b[1;33m,\u001b[0m\u001b[1;36m3\u001b[0m\u001b[1;33m)\u001b[0m\u001b[1;33m)\u001b[0m\u001b[1;33m\u001b[0m\u001b[1;33m\u001b[0m\u001b[0m\n\u001b[0;32m     22\u001b[0m \u001b[0my_pred\u001b[0m \u001b[1;33m=\u001b[0m \u001b[0mw1\u001b[0m\u001b[1;33m[\u001b[0m\u001b[1;36m0\u001b[0m\u001b[1;33m,\u001b[0m\u001b[1;36m0\u001b[0m\u001b[1;33m]\u001b[0m \u001b[1;33m*\u001b[0m \u001b[0mX\u001b[0m \u001b[1;33m+\u001b[0m \u001b[0mw0\u001b[0m\u001b[1;33m\u001b[0m\u001b[1;33m\u001b[0m\u001b[0m\n",
      "\u001b[1;32m<ipython-input-78-4644fa4009a9>\u001b[0m in \u001b[0;36mstochastic_gradient_descent_steps\u001b[1;34m(X, y, batch_size, iters)\u001b[0m\n\u001b[0;32m     12\u001b[0m         \u001b[0msample_y\u001b[0m \u001b[1;33m=\u001b[0m \u001b[0my\u001b[0m\u001b[1;33m[\u001b[0m\u001b[0mstochastic_random_index\u001b[0m\u001b[1;33m[\u001b[0m\u001b[1;36m0\u001b[0m\u001b[1;33m:\u001b[0m\u001b[0mbatch_size\u001b[0m\u001b[1;33m]\u001b[0m\u001b[1;33m]\u001b[0m\u001b[1;33m\u001b[0m\u001b[1;33m\u001b[0m\u001b[0m\n\u001b[0;32m     13\u001b[0m         \u001b[1;31m# 랜덤하게 batch_size만큼 추출된 데이터 기반으로 w1_update, w0_update 계산 후 업데이트\u001b[0m\u001b[1;33m\u001b[0m\u001b[1;33m\u001b[0m\u001b[1;33m\u001b[0m\u001b[0m\n\u001b[1;32m---> 14\u001b[1;33m         \u001b[0mw1_update\u001b[0m\u001b[1;33m,\u001b[0m \u001b[0mw0_update\u001b[0m \u001b[1;33m=\u001b[0m \u001b[0mget_weight_updates\u001b[0m\u001b[1;33m(\u001b[0m\u001b[0mw1\u001b[0m\u001b[1;33m,\u001b[0m \u001b[0mw0\u001b[0m\u001b[1;33m,\u001b[0m \u001b[0msample_X\u001b[0m\u001b[1;33m,\u001b[0m \u001b[0msample_y\u001b[0m\u001b[1;33m,\u001b[0m \u001b[0mlearning_rate\u001b[0m \u001b[1;33m=\u001b[0m \u001b[1;36m0.01\u001b[0m\u001b[1;33m)\u001b[0m\u001b[1;33m\u001b[0m\u001b[1;33m\u001b[0m\u001b[0m\n\u001b[0m\u001b[0;32m     15\u001b[0m         \u001b[0mw1\u001b[0m \u001b[1;33m=\u001b[0m \u001b[0mw1\u001b[0m \u001b[1;33m-\u001b[0m \u001b[0mw1_update\u001b[0m\u001b[1;33m\u001b[0m\u001b[1;33m\u001b[0m\u001b[0m\n\u001b[0;32m     16\u001b[0m         \u001b[0mw0\u001b[0m \u001b[1;33m=\u001b[0m \u001b[0mw0\u001b[0m \u001b[1;33m-\u001b[0m \u001b[0mw0_update\u001b[0m\u001b[1;33m\u001b[0m\u001b[1;33m\u001b[0m\u001b[0m\n",
      "\u001b[1;31mNameError\u001b[0m: name 'get_weight_updates' is not defined"
     ]
    }
   ],
   "source": [
    "def stochastic_gradient_descent_steps(X, y, batch_size=10, iters=1000):\n",
    "    w0=np.zeros((1,1))\n",
    "    w1=np.zeros((1,1))\n",
    "    prev_cost = 100000\n",
    "    iter_index = 0\n",
    "    \n",
    "    for ind in range(iters):\n",
    "        np.random.seed(ind)\n",
    "        # 전체 X,y 데이터에서 랜덤하게 batch_size만큼 데이터 추출하여 sample_X, sample_y로 저장\n",
    "        stochastic_random_index = np.random.permutation(X.shape[0])\n",
    "        sample_X = X[stochastic_random_index[0:batch_size]]\n",
    "        sample_y = y[stochastic_random_index[0:batch_size]]\n",
    "        # 랜덤하게 batch_size만큼 추출된 데이터 기반으로 w1_update, w0_update 계산 후 업데이트\n",
    "        w1_update, w0_update = get_weight_updates(w1, w0, sample_X, sample_y, learning_rate = 0.01)\n",
    "        w1 = w1 - w1_update\n",
    "        w0 = w0 - w0_update\n",
    "    \n",
    "    return w1, w0\n",
    "\n",
    "w1, w0 = stochastic_gradient_descent_steps(X, y, iters=1000)\n",
    "print(\"w1:\",round(w1[0,0],3), \"w0:\",round(w0[0,0],3))\n",
    "y_pred = w1[0,0] * X + w0\n",
    "print('Stochastic Gradient Descent Total Cost:{0:.4f}'.format(get_cost(y, y_pred)))"
   ]
  },
  {
   "cell_type": "code",
   "execution_count": 79,
   "id": "c7eb4f58",
   "metadata": {},
   "outputs": [
    {
     "data": {
      "image/png": "[encoded data removed]",
      "text/plain": [
       "<Figure size 432x288 with 1 Axes>"
      ]
     },
     "metadata": {
      "needs_background": "light"
     },
     "output_type": "display_data"
    }
   ],
   "source": [
    "import numpy as np\n",
    "import pandas as pd\n",
    "import matplotlib.pyplot as plt\n",
    "from mpl_toolkits import mplot3d\n",
    "\n",
    "# 공부시간 x와 성적 y의 리스트를 만듭니다.\n",
    "data = [[2,0,81],[4,4,93],[6,2,91],[8,3,97]]\n",
    "x1 = [i[0] for i in data]\n",
    "x2 = [i[1] for i in data]\n",
    "y = [i[2] for i in data]\n",
    "\n",
    "# 그래프로 확인해봅니다.\n",
    "ax = plt.axes(projection='3d')\n",
    "ax.set_xlabel('study_hours')\n",
    "ax.set_ylabel('private_class')\n",
    "ax.set_zlabel('Score')\n",
    "ax.dist = 11\n",
    "ax.scatter(x1,x2,y)\n",
    "plt.show()\n"
   ]
  },
  {
   "cell_type": "code",
   "execution_count": 80,
   "id": "4af8139c",
   "metadata": {},
   "outputs": [
    {
     "name": "stdout",
     "output_type": "stream",
     "text": [
      "epoch=0, 기울기1=18.5600, 기울기2=8.4500, 절편=3.6200\n",
      "epoch=100, 기울기1=7.2994, 기울기2=4.2867, 절편=38.0427\n",
      "epoch=200, 기울기1=4.5683, 기울기2=3.3451, 절편=56.7901\n",
      "epoch=300, 기울기1=3.1235, 기울기2=2.8463, 절편=66.7100\n",
      "epoch=400, 기울기1=2.3591, 기울기2=2.5823, 절편=71.9589\n",
      "epoch=500, 기울기1=1.9546, 기울기2=2.4427, 절편=74.7362\n",
      "epoch=600, 기울기1=1.7405, 기울기2=2.3688, 절편=76.2058\n",
      "epoch=700, 기울기1=1.6273, 기울기2=2.3297, 절편=76.9833\n",
      "epoch=800, 기울기1=1.5673, 기울기2=2.3090, 절편=77.3948\n",
      "epoch=900, 기울기1=1.5356, 기울기2=2.2980, 절편=77.6125\n",
      "epoch=1000, 기울기1=1.5189, 기울기2=2.2922, 절편=77.7277\n",
      "epoch=1100, 기울기1=1.5100, 기울기2=2.2892, 절편=77.7886\n",
      "epoch=1200, 기울기1=1.5053, 기울기2=2.2875, 절편=77.8209\n",
      "epoch=1300, 기울기1=1.5028, 기울기2=2.2867, 절편=77.8380\n",
      "epoch=1400, 기울기1=1.5015, 기울기2=2.2862, 절편=77.8470\n",
      "epoch=1500, 기울기1=1.5008, 기울기2=2.2860, 절편=77.8518\n",
      "epoch=1600, 기울기1=1.5004, 기울기2=2.2859, 절편=77.8543\n",
      "epoch=1700, 기울기1=1.5002, 기울기2=2.2858, 절편=77.8556\n",
      "epoch=1800, 기울기1=1.5001, 기울기2=2.2858, 절편=77.8563\n",
      "epoch=1900, 기울기1=1.5001, 기울기2=2.2857, 절편=77.8567\n",
      "epoch=2000, 기울기1=1.5000, 기울기2=2.2857, 절편=77.8569\n",
      "epoch=2100, 기울기1=1.5000, 기울기2=2.2857, 절편=77.8570\n",
      "epoch=2200, 기울기1=1.5000, 기울기2=2.2857, 절편=77.8571\n",
      "epoch=2300, 기울기1=1.5000, 기울기2=2.2857, 절편=77.8571\n",
      "epoch=2400, 기울기1=1.5000, 기울기2=2.2857, 절편=77.8571\n",
      "epoch=2500, 기울기1=1.5000, 기울기2=2.2857, 절편=77.8571\n",
      "epoch=2600, 기울기1=1.5000, 기울기2=2.2857, 절편=77.8571\n",
      "epoch=2700, 기울기1=1.5000, 기울기2=2.2857, 절편=77.8571\n",
      "epoch=2800, 기울기1=1.5000, 기울기2=2.2857, 절편=77.8571\n",
      "epoch=2900, 기울기1=1.5000, 기울기2=2.2857, 절편=77.8571\n",
      "epoch=3000, 기울기1=1.5000, 기울기2=2.2857, 절편=77.8571\n",
      "epoch=3100, 기울기1=1.5000, 기울기2=2.2857, 절편=77.8571\n",
      "epoch=3200, 기울기1=1.5000, 기울기2=2.2857, 절편=77.8571\n",
      "epoch=3300, 기울기1=1.5000, 기울기2=2.2857, 절편=77.8571\n",
      "epoch=3400, 기울기1=1.5000, 기울기2=2.2857, 절편=77.8571\n",
      "epoch=3500, 기울기1=1.5000, 기울기2=2.2857, 절편=77.8571\n",
      "epoch=3600, 기울기1=1.5000, 기울기2=2.2857, 절편=77.8571\n",
      "epoch=3700, 기울기1=1.5000, 기울기2=2.2857, 절편=77.8571\n",
      "epoch=3800, 기울기1=1.5000, 기울기2=2.2857, 절편=77.8571\n",
      "epoch=3900, 기울기1=1.5000, 기울기2=2.2857, 절편=77.8571\n",
      "epoch=4000, 기울기1=1.5000, 기울기2=2.2857, 절편=77.8571\n",
      "epoch=4100, 기울기1=1.5000, 기울기2=2.2857, 절편=77.8571\n",
      "epoch=4200, 기울기1=1.5000, 기울기2=2.2857, 절편=77.8571\n",
      "epoch=4300, 기울기1=1.5000, 기울기2=2.2857, 절편=77.8571\n",
      "epoch=4400, 기울기1=1.5000, 기울기2=2.2857, 절편=77.8571\n",
      "epoch=4500, 기울기1=1.5000, 기울기2=2.2857, 절편=77.8571\n",
      "epoch=4600, 기울기1=1.5000, 기울기2=2.2857, 절편=77.8571\n",
      "epoch=4700, 기울기1=1.5000, 기울기2=2.2857, 절편=77.8571\n",
      "epoch=4800, 기울기1=1.5000, 기울기2=2.2857, 절편=77.8571\n",
      "epoch=4900, 기울기1=1.5000, 기울기2=2.2857, 절편=77.8571\n"
     ]
    }
   ],
   "source": [
    "#리스트로 되어 있는 x와 y값을 넘파이 배열로 바꾸어 줍니다.(인덱스를 주어 하나씩 불러와 계산이 가능해 지도록 하기 위함입니다.)\n",
    "x1_data = np.array(x1)\n",
    "x2_data = np.array(x2)\n",
    "y_data = np.array(y)\n",
    "\n",
    "# 기울기 a와 절편 b의 값을 초기화 합니다.\n",
    "a1 = 0\n",
    "a2 = 0\n",
    "b = 0\n",
    "\n",
    "#학습률을 정합니다.\n",
    "lr = 0.02\n",
    "\n",
    "#몇 번 반복될지를 설정합니다.(0부터 세므로 원하는 반복 횟수에 +1을 해 주어야 합니다.)\n",
    "epochs = 5000\n",
    "\n",
    "#경사 하강법을 시작합니다.\n",
    "for i in range(epochs): # epoch 수 만큼 반복\n",
    "    y_pred = a1 * x1_data + a2 * x2_data + b  #y를 구하는 식을 세웁니다 (y = w1x1 + w2x2 + θ)\n",
    "    error = y_data - y_pred  #오차를 구하는 식입니다.\n",
    "    a1_diff = -(2/len(x1_data)) * sum(x1_data * (error)) # 오차함수를 a1로 미분한 값입니다.\n",
    "    a2_diff = -(2/len(x2_data)) * sum(x2_data * (error)) # 오차함수를 a2로 미분한 값입니다.\n",
    "    b_new = -(2/len(x1_data)) * sum(y_data - y_pred)  # 오차함수를 b로 미분한 값입니다.\n",
    "    a1 = a1 - lr * a1_diff  # 학습률을 곱해 기존의 a1값을 업데이트합니다.\n",
    "    a2 = a2 - lr * a2_diff  # 학습률을 곱해 기존의 a2값을 업데이트합니다.\n",
    "    b = b - lr * b_new  # 학습률을 곱해 기존의 b값을 업데이트합니다.\n",
    "    if i % 100 == 0:    # 100번 반복될 때마다 현재의 a1, a2, b값을 출력합니다.\n",
    "        print(\"epoch=%.f, 기울기1=%.04f, 기울기2=%.04f, 절편=%.04f\" % (i, a1, a2, b))"
   ]
  },
  {
   "cell_type": "code",
   "execution_count": 81,
   "id": "240813a8",
   "metadata": {},
   "outputs": [
    {
     "data": {
      "image/png": "[encoded data removed]",
      "text/plain": [
       "<Figure size 432x288 with 1 Axes>"
      ]
     },
     "metadata": {
      "needs_background": "light"
     },
     "output_type": "display_data"
    }
   ],
   "source": [
    "#참고 자료, 다중 선형회귀 '예측 평면' 3D로 보기\n",
    "import statsmodels.api as statm\n",
    "import statsmodels.formula.api as statfa\n",
    "#from matplotlib.pyplot import figure\n",
    "X = [i[0:2] for i in data]\n",
    "y = [i[2] for i in data]\n",
    "X_1=statm.add_constant(X)\n",
    "results=statm.OLS(y,X_1).fit()\n",
    "hour_class=pd.DataFrame(X,columns=['study_hours','private_class'])\n",
    "hour_class['Score']=pd.Series(y)\n",
    "model = statfa.ols(formula='Score ~ study_hours + private_class', data=hour_class)\n",
    "results_formula = model.fit()\n",
    "a, b = np.meshgrid(np.linspace(hour_class.study_hours.min(),hour_class.study_hours.max(),100),\n",
    "                   np.linspace(hour_class.private_class.min(),hour_class.private_class.max(),100))\n",
    "X_ax = pd.DataFrame({'study_hours': a.ravel(), 'private_class': b.ravel()})\n",
    "fittedY=results_formula.predict(exog=X_ax)\n",
    "fig = plt.figure()\n",
    "graph = fig.add_subplot(111, projection='3d')\n",
    "graph.scatter(hour_class['study_hours'],hour_class['private_class'],hour_class['Score'],\n",
    "              c='blue',marker='o', alpha=1)\n",
    "graph.plot_surface(a,b,fittedY.values.reshape(a.shape),\n",
    "                   rstride=1, cstride=1, color='none', alpha=0.4)\n",
    "graph.set_xlabel('study hours')\n",
    "graph.set_ylabel('private class')\n",
    "graph.set_zlabel('Score')\n",
    "graph.dist = 11\n",
    "plt.show()"
   ]
  },
  {
   "cell_type": "code",
   "execution_count": 82,
   "id": "a116ee20",
   "metadata": {},
   "outputs": [
    {
     "data": {
      "text/plain": [
       "(-0.1, 1.1)"
      ]
     },
     "execution_count": 82,
     "metadata": {},
     "output_type": "execute_result"
    },
    {
     "data": {
      "image/png": "[encoded data removed]",
      "text/plain": [
       "<Figure size 432x288 with 1 Axes>"
      ]
     },
     "metadata": {
      "needs_background": "light"
     },
     "output_type": "display_data"
    }
   ],
   "source": [
    "import numpy as np\n",
    "import pandas as pd\n",
    "import matplotlib.pyplot as plt\n",
    "\n",
    "# 공부시간 x와 성적 y의 리스트를 만듭니다.\n",
    "data = [[2,0],[4,0],[6,0],[8,1],[10,1],[12,1],[14,1]]\n",
    "\n",
    "x_data = [i[0] for i in data]\n",
    "y_data = [i[1] for i in data]\n",
    "\n",
    "# 그래프로 나타내 봅니다.\n",
    "plt.scatter(x_data, y_data)\n",
    "plt.xlim(0,15)\n",
    "plt.ylim(-.1, 1.1)"
   ]
  },
  {
   "cell_type": "code",
   "execution_count": 83,
   "id": "d983ece2",
   "metadata": {},
   "outputs": [
    {
     "name": "stdout",
     "output_type": "stream",
     "text": [
      "epoch=0, 기울기 = -0.0500, 절편 = -0.0250\n",
      "epoch=0, 기울기 = -0.1388, 절편 = -0.0472\n",
      "epoch=0, 기울기 = -0.2268, 절편 = -0.0619\n",
      "epoch=0, 기울기 = 0.1201, 절편 = -0.0185\n",
      "epoch=0, 기울기 = 0.2374, 절편 = -0.0068\n",
      "epoch=0, 기울기 = 0.2705, 절편 = -0.0040\n",
      "epoch=0, 기울기 = 0.2860, 절편 = -0.0029\n",
      "epoch=1000, 기울기 = 1.4978, 절편 = -9.9401\n",
      "epoch=1000, 기울기 = 1.4940, 절편 = -9.9411\n",
      "epoch=1000, 기울기 = 1.4120, 절편 = -9.9547\n",
      "epoch=1000, 기울기 = 1.4949, 절편 = -9.9444\n",
      "epoch=1000, 기울기 = 1.4982, 절편 = -9.9440\n",
      "epoch=1000, 기울기 = 1.4984, 절편 = -9.9440\n",
      "epoch=1000, 기울기 = 1.4985, 절편 = -9.9440\n",
      "epoch=2000, 기울기 = 1.9065, 절편 = -12.9489\n",
      "epoch=2000, 기울기 = 1.9055, 절편 = -12.9491\n",
      "epoch=2000, 기울기 = 1.8515, 절편 = -12.9581\n",
      "epoch=2000, 기울기 = 1.9057, 절편 = -12.9514\n",
      "epoch=2000, 기울기 = 1.9068, 절편 = -12.9513\n",
      "epoch=2000, 기울기 = 1.9068, 절편 = -12.9513\n",
      "epoch=2000, 기울기 = 1.9068, 절편 = -12.9513\n"
     ]
    }
   ],
   "source": [
    "# 기울기 a와 절편 b의 값을 초기화합니다.\n",
    "a = 0\n",
    "b = 0\n",
    "\n",
    "# 학습률을 정합니다.\n",
    "lr = 0.05\n",
    "\n",
    "# 시그모이드 함수를 정의합니다.\n",
    "def sigmoid(x):\n",
    "    return 1 / (1 + np.e ** (-x)) #넘파이의 자연수 e 사용\n",
    "\n",
    "# 경사 하강법을 실행합니다.\n",
    "## 모두의 딥러닝 p96 참조\n",
    "for i in range(2001):\n",
    "    for x_data, y_data in data:\n",
    "        a_diff = x_data * (sigmoid(a * x_data + b) - y_data) ## x에 대해서 미분\n",
    "        b_diff = sigmoid(a * x_data + b) - y_data\n",
    "        a = a - lr * a_diff\n",
    "        b = b - lr * b_diff\n",
    "        if i % 1000 == 0:  # 1000번 반복될 때마다 각 x_data값에 대한 현재의 a값, b값을 출력합니다.\n",
    "            print(\"epoch=%.f, 기울기 = %.04f, 절편 = %.04f\" % (i, a, b))"
   ]
  },
  {
   "cell_type": "code",
   "execution_count": 84,
   "id": "989c476e",
   "metadata": {},
   "outputs": [
    {
     "name": "stdout",
     "output_type": "stream",
     "text": [
      "[0 0 0 1]\n"
     ]
    }
   ],
   "source": [
    "from sklearn.linear_model import Perceptron\n",
    "\n",
    "# 샘플과 레이블이다.\n",
    "X = [[0,0],[0,1],[1,0],[1,1]]\n",
    "y = [0,0,0,1]\n",
    "\n",
    "# 퍼셉트론을 생성한다. tol는 종료 조건이다. random_state는 난수의 시드이다.\n",
    "clf = Perceptron(tol=1e-3, random_state=0)\n",
    "\n",
    "# 학습을 수행한다.\n",
    "clf.fit(X,y)\n",
    "\n",
    "# 테스트를 수행한다.\n",
    "print(clf.predict(X))\n",
    "\n",
    "## 정확도 100%"
   ]
  },
  {
   "cell_type": "code",
   "execution_count": 85,
   "id": "24842b8e",
   "metadata": {},
   "outputs": [
    {
     "name": "stdout",
     "output_type": "stream",
     "text": [
      "입력 값: (0, 0)출력 값: 0\n",
      "입력 값: (1, 0)출력 값: 1\n",
      "입력 값: (0, 1)출력 값: 1\n",
      "입력 값: (1, 1)출력 값: 0\n"
     ]
    }
   ],
   "source": [
    "## p133\n",
    "# 이건 머신러닝 아님 단순 연산\n",
    "import numpy as np\n",
    "\n",
    "# 가중치와 바이어스\n",
    "w11 = np.array([-2,-2])\n",
    "w12 = np.array([2,2])\n",
    "w2 = np.array([1,1])\n",
    "b1 = 3\n",
    "b2 = -1\n",
    "b3 = -1\n",
    "\n",
    "# 퍼셉트론\n",
    "def MLP(x,w,b):\n",
    "    y = np.sum(w*x)+b\n",
    "    if y <= 0:\n",
    "        return 0\n",
    "    else:\n",
    "        return 1\n",
    "\n",
    "# NAND 게이트\n",
    "def NAND(x1,x2):\n",
    "    return MLP(np.array([x1,x2]), w11, b1)\n",
    "\n",
    "# OR 게이트\n",
    "def OR(x1,x2):\n",
    "    return MLP(np.array([x1,x2]), w12, b2)\n",
    "\n",
    "# AND 게이트\n",
    "def AND(x1,x2):\n",
    "    return MLP(np.array([x1,x2]), w2, b3)\n",
    "\n",
    "# XOR 게이트\n",
    "def XOR(x1,x2):\n",
    "    return AND(NAND(x1,x2), OR(x1,x2))\n",
    "\n",
    "# x1, x2 값을 번갈아 대입해 가며 최종값 출력\n",
    "if __name__ == '__main__':\n",
    "    for x in [(0,0), (1,0), (0,1), (1,1)]:\n",
    "        y = XOR(x[0], x[1])\n",
    "        print(\"입력 값: \" + str(x) + \"출력 값: \" + str(y))"
   ]
  },
  {
   "cell_type": "code",
   "execution_count": 87,
   "id": "f70c7fe0",
   "metadata": {
    "scrolled": true
   },
   "outputs": [
    {
     "name": "stdout",
     "output_type": "stream",
     "text": [
      "손실 함수 값(9.86) : 57.05959999999999\n",
      "손실 함수 값(9.7228) : 55.19603983999999\n",
      "손실 함수 값(9.588344) : 53.40627666233599\n",
      "손실 함수 값(9.456577119999999) : 51.68738810650748\n",
      "손실 함수 값(9.327445577599999) : 50.03656753748979\n",
      "손실 함수 값(9.200896666048) : 48.45111946300519\n",
      "손실 함수 값(9.076878732727039) : 46.92845513227018\n",
      "손실 함수 값(8.955341158072498) : 45.46608830903228\n",
      "손실 함수 값(8.836234334911047) : 44.061631211994595\n",
      "손실 함수 값(8.719509648212826) : 42.7127906159996\n",
      "손실 함수 값(8.60511945524857) : 41.41736410760602\n",
      "손실 함수 값(8.493017066143599) : 40.17323648894484\n",
      "손실 함수 값(8.383156724820727) : 38.97837632398262\n",
      "손실 함수 값(8.275493590324313) : 37.830832621552915\n",
      "손실 함수 값(8.169983718517827) : 36.728731649739416\n",
      "손실 함수 값(8.06658404414747) : 35.67027387640974\n",
      "손실 함수 값(7.965252363264521) : 34.65373103090391\n",
      "손실 함수 값(7.865947315999231) : 33.67744328208012\n",
      "손실 함수 값(7.768628369679246) : 32.73981652810974\n",
      "손실 함수 값(7.673255802285661) : 31.839319793596598\n",
      "손실 함수 값(7.579790686239948) : 30.97448272977017\n",
      "손실 함수 값(7.488194872515149) : 30.143893213671276\n",
      "손실 함수 값(7.398430975064846) : 29.346195042409892\n",
      "손실 함수 값(7.3104623555635495) : 28.580085718730462\n",
      "손실 함수 값(7.224253108452278) : 27.844314324268737\n",
      "손실 함수 값(7.1397680462832325) : 27.137679477027692\n",
      "손실 함수 값(7.056972685357568) : 26.459027369737395\n",
      "손실 함수 값(6.975833231650417) : 25.807249885895796\n",
      "손실 함수 값(6.896316567017409) : 25.181282790414325\n",
      "손실 함수 값(6.818390235677061) : 24.580103991913923\n",
      "손실 함수 값(6.7420224309635195) : 24.00273187383413\n",
      "손실 함수 값(6.667181982344249) : 23.448223691630297\n",
      "손실 함수 값(6.593838342697364) : 22.915674033441732\n",
      "손실 함수 값(6.521961575843417) : 22.404213341717444\n",
      "손실 함수 값(6.451522344326548) : 21.91300649338543\n",
      "손실 함수 값(6.382491897440017) : 21.44125143624737\n",
      "손실 함수 값(6.314842059491217) : 20.988177879371975\n",
      "손실 함수 값(6.248545218301393) : 20.553046035348846\n",
      "손실 함수 값(6.183574313935365) : 20.13514541234903\n",
      "손실 함수 값(6.119902827656658) : 19.73379365402001\n",
      "손실 함수 값(6.057504771103525) : 19.34833542532082\n",
      "손실 함수 값(5.996354675681454) : 18.97814134247811\n",
      "손실 함수 값(5.936427582167825) : 18.62260694531598\n",
      "손실 함수 값(5.877699030524469) : 18.28115171028147\n",
      "손실 함수 값(5.82014504991398) : 17.953218102554324\n",
      "손실 함수 값(5.7637421489157) : 17.63827066569317\n",
      "손실 함수 값(5.708467305937386) : 17.335795147331723\n",
      "손실 함수 값(5.6542979598186385) : 17.045297659497386\n",
      "손실 함수 값(5.601212000622266) : 16.766303872181293\n",
      "손실 함수 값(5.54918776060982) : 16.49835823884291\n",
      "손실 함수 값(5.498204005397624) : 16.241023252584732\n",
      "손실 함수 값(5.448239925289672) : 15.993878731782377\n",
      "손실 함수 값(5.399275126783878) : 15.756521134003794\n",
      "손실 함수 값(5.3512896242482) : 15.528562897097242\n",
      "손실 함수 값(5.304263831763236) : 15.30963180637219\n",
      "손실 함수 값(5.258178555127971) : 15.099370386839851\n",
      "손실 함수 값(5.213014984025412) : 14.897435319520993\n",
      "손실 함수 값(5.168754684344903) : 14.703496880867961\n",
      "손실 함수 값(5.125379590658005) : 14.517238404385587\n",
      "손실 함수 값(5.082871998844845) : 14.33835576357192\n",
      "손실 함수 값(5.0412145588679484) : 14.166556875334473\n",
      "손실 함수 값(5.000390267690589) : 14.001561223071228\n",
      "손실 함수 값(4.960382462336777) : 13.843099398637605\n",
      "손실 함수 값(4.921174813090041) : 13.690912662451556\n",
      "손실 함수 값(4.882751316828241) : 13.544752521018475\n",
      "손실 함수 값(4.845096290491676) : 13.404380321186142\n",
      "손실 함수 값(4.808194364681842) : 13.269566860467172\n",
      "손실 함수 값(4.772030477388205) : 13.140092012792671\n",
      "손실 함수 값(4.736589867840442) : 13.015744369086082\n",
      "손실 함수 값(4.701858070483633) : 12.896320892070275\n",
      "손실 함수 값(4.66782090907396) : 12.78162658474429\n",
      "손실 함수 값(4.634464490892481) : 12.671474171988416\n",
      "손실 함수 값(4.601775201074632) : 12.565683794777676\n",
      "손실 함수 값(4.569739697053139) : 12.46408271650448\n",
      "손실 함수 값(4.538344903112076) : 12.366505040930903\n",
      "손실 함수 값(4.507578005049835) : 12.27279144131004\n",
      "손실 함수 값(4.477426444948838) : 12.182788900234161\n",
      "손실 함수 값(4.447877916049861) : 12.096350459784889\n",
      "손실 함수 값(4.418920357728863) : 12.013334981577405\n",
      "손실 함수 값(4.390541950574286) : 11.933606916306939\n",
      "손실 함수 값(4.3627311115628) : 11.857036082421185\n",
      "손실 함수 값(4.335476489331544) : 11.783497453557306\n",
      "손실 함수 값(4.308766959544913) : 11.712870954396436\n",
      "손실 함수 값(4.282591620354015) : 11.64504126460234\n",
      "손실 함수 값(4.256939787946935) : 11.579897630524087\n",
      "손실 함수 값(4.231800992187996) : 11.517333684355332\n",
      "손실 함수 값(4.207164972344237) : 11.457247270454863\n",
      "손실 함수 값(4.183021672897352) : 11.39954027854485\n",
      "손실 함수 값(4.159361239439405) : 11.344118483514473\n",
      "손실 함수 값(4.136174014650617) : 11.290891391567301\n",
      "손실 함수 값(4.113450534357605) : 11.239772092461235\n",
      "손실 함수 값(4.0911815236704525) : 11.19067711759977\n",
      "손실 함수 값(4.0693578931970436) : 11.143526303742819\n",
      "손실 함수 값(4.047970735333102) : 11.098242662114604\n",
      "손실 함수 값(4.02701132062644) : 11.054752252694865\n",
      "손실 함수 값(4.006471094213911) : 11.012984063488148\n",
      "손실 함수 값(3.9863416723296328) : 10.972869894574016\n",
      "손실 함수 값(3.9666148388830402) : 10.934344246748886\n",
      "손실 함수 값(3.947282542105379) : 10.897344214577629\n",
      "손실 함수 값(3.9283368912632715) : 10.861809383680356\n",
      "MIN :  3.9283368912632715\n"
     ]
    }
   ],
   "source": [
    "x = 10\n",
    "lr = 0.01\n",
    "precision = 0.00001\n",
    "max_iterations = 100\n",
    "loss_func = lambda x:(x-3)**2 +10\n",
    "gradient = lambda x:2*x-6\n",
    "for i in range(max_iterations):\n",
    "    x = x - lr * gradient(x)\n",
    "    print(f'손실 함수 값({x}) : {loss_func(x)}')\n",
    "print('MIN : ', x)"
   ]
  },
  {
   "cell_type": "code",
   "execution_count": 93,
   "id": "4da27d23",
   "metadata": {},
   "outputs": [
    {
     "name": "stdout",
     "output_type": "stream",
     "text": [
      "0.04685\n",
      "0.6931471803599453\n",
      "8.265472039806522\n",
      "21.21844021456322\n"
     ]
    }
   ],
   "source": [
    "import numpy as np\n",
    "\n",
    "def MSE(y, t):\n",
    "    return 0.5 * np.sum((y-t)**2)\n",
    "\n",
    "t = np.array([0,0,0,0.5,0.5,0,0,0,0,0])\n",
    "yr = np.array([0,0,0,0.5,0.5,0,0,0,0,0])\n",
    "y = np.array([0.01,0.01,0.1,0.3,0.33,0.04,0.02,0.05,0.01,0.1])\n",
    "y_1 = np.array([0.3, 0.01, 0.1, 0.01, 0.04, 0.02, 0.05, 0.33, 0.01, 0.1])\n",
    "\n",
    "def CEE(y, t):\n",
    "    delta = 1e-10\n",
    "    return -np.sum(t*np.log(y+delta))\n",
    "\n",
    "print(MSE(t,y))\n",
    "print(CEE(t,yr))\n",
    "print(CEE(t,y))\n",
    "print(CEE(t,y_1))\n",
    "\n",
    "### 오차가 커질수록 손실값도 커진다."
   ]
  },
  {
   "cell_type": "code",
   "execution_count": 134,
   "id": "5064c2c9",
   "metadata": {
    "scrolled": true
   },
   "outputs": [
    {
     "name": "stdout",
     "output_type": "stream",
     "text": [
      "Epoch 1/100\n",
      "469/469 [==============================] - 1s 2ms/step - loss: 0.0970 - accuracy: 0.2326 - mse: 0.0970\n",
      "Epoch 2/100\n",
      "469/469 [==============================] - 1s 2ms/step - loss: 0.0842 - accuracy: 0.4612 - mse: 0.0842\n",
      "Epoch 3/100\n",
      "469/469 [==============================] - 1s 2ms/step - loss: 0.0777 - accuracy: 0.5580 - mse: 0.0777\n",
      "Epoch 4/100\n",
      "469/469 [==============================] - 1s 2ms/step - loss: 0.0707 - accuracy: 0.6389 - mse: 0.0707\n",
      "Epoch 5/100\n",
      "469/469 [==============================] - 1s 2ms/step - loss: 0.0639 - accuracy: 0.6947 - mse: 0.0639\n",
      "Epoch 6/100\n",
      "469/469 [==============================] - 1s 2ms/step - loss: 0.0582 - accuracy: 0.7315 - mse: 0.0582\n",
      "Epoch 7/100\n",
      "469/469 [==============================] - 1s 2ms/step - loss: 0.0536 - accuracy: 0.7586 - mse: 0.0536\n",
      "Epoch 8/100\n",
      "469/469 [==============================] - 1s 2ms/step - loss: 0.0498 - accuracy: 0.7795 - mse: 0.0498\n",
      "Epoch 9/100\n",
      "469/469 [==============================] - 1s 2ms/step - loss: 0.0467 - accuracy: 0.7949 - mse: 0.0467\n",
      "Epoch 10/100\n",
      "469/469 [==============================] - 1s 2ms/step - loss: 0.0441 - accuracy: 0.8081 - mse: 0.0441\n",
      "Epoch 11/100\n",
      "469/469 [==============================] - 1s 2ms/step - loss: 0.0419 - accuracy: 0.8177 - mse: 0.0419\n",
      "Epoch 12/100\n",
      "469/469 [==============================] - 1s 2ms/step - loss: 0.0402 - accuracy: 0.8247 - mse: 0.0402\n",
      "Epoch 13/100\n",
      "469/469 [==============================] - 1s 2ms/step - loss: 0.0387 - accuracy: 0.8292 - mse: 0.0387\n",
      "Epoch 14/100\n",
      "469/469 [==============================] - 1s 2ms/step - loss: 0.0371 - accuracy: 0.8378 - mse: 0.0371\n",
      "Epoch 15/100\n",
      "469/469 [==============================] - 1s 2ms/step - loss: 0.0361 - accuracy: 0.8424 - mse: 0.0361\n",
      "Epoch 16/100\n",
      "469/469 [==============================] - 1s 2ms/step - loss: 0.0348 - accuracy: 0.8471 - mse: 0.0348\n",
      "Epoch 17/100\n",
      "469/469 [==============================] - 1s 2ms/step - loss: 0.0339 - accuracy: 0.8514 - mse: 0.0339\n",
      "Epoch 18/100\n",
      "469/469 [==============================] - 1s 2ms/step - loss: 0.0331 - accuracy: 0.8520 - mse: 0.0331\n",
      "Epoch 19/100\n",
      "469/469 [==============================] - 1s 2ms/step - loss: 0.0320 - accuracy: 0.8576 - mse: 0.0320\n",
      "Epoch 20/100\n",
      "469/469 [==============================] - 1s 2ms/step - loss: 0.0315 - accuracy: 0.8572 - mse: 0.0315\n",
      "Epoch 21/100\n",
      "469/469 [==============================] - 1s 2ms/step - loss: 0.0309 - accuracy: 0.8589 - mse: 0.0309\n",
      "Epoch 22/100\n",
      "469/469 [==============================] - 1s 2ms/step - loss: 0.0304 - accuracy: 0.8596 - mse: 0.0304\n",
      "Epoch 23/100\n",
      "469/469 [==============================] - 1s 2ms/step - loss: 0.0294 - accuracy: 0.8666 - mse: 0.0294\n",
      "Epoch 24/100\n",
      "469/469 [==============================] - 1s 2ms/step - loss: 0.0291 - accuracy: 0.8652 - mse: 0.0291\n",
      "Epoch 25/100\n",
      "469/469 [==============================] - 1s 2ms/step - loss: 0.0286 - accuracy: 0.8668 - mse: 0.0286\n",
      "Epoch 26/100\n",
      "469/469 [==============================] - 1s 2ms/step - loss: 0.0281 - accuracy: 0.8696 - mse: 0.0281\n",
      "Epoch 27/100\n",
      "469/469 [==============================] - 1s 2ms/step - loss: 0.0276 - accuracy: 0.8688 - mse: 0.0276\n",
      "Epoch 28/100\n",
      "469/469 [==============================] - 1s 2ms/step - loss: 0.0274 - accuracy: 0.8720 - mse: 0.0274\n",
      "Epoch 29/100\n",
      "469/469 [==============================] - 1s 2ms/step - loss: 0.0272 - accuracy: 0.8702 - mse: 0.0272\n",
      "Epoch 30/100\n",
      "469/469 [==============================] - 1s 2ms/step - loss: 0.0268 - accuracy: 0.8714 - mse: 0.0268\n",
      "Epoch 31/100\n",
      "469/469 [==============================] - 1s 2ms/step - loss: 0.0263 - accuracy: 0.8750 - mse: 0.0263\n",
      "Epoch 32/100\n",
      "469/469 [==============================] - 1s 2ms/step - loss: 0.0263 - accuracy: 0.8729 - mse: 0.0263\n",
      "Epoch 33/100\n",
      "469/469 [==============================] - 1s 2ms/step - loss: 0.0257 - accuracy: 0.8774 - mse: 0.0257\n",
      "Epoch 34/100\n",
      "469/469 [==============================] - 1s 2ms/step - loss: 0.0252 - accuracy: 0.8789 - mse: 0.0252\n",
      "Epoch 35/100\n",
      "469/469 [==============================] - 1s 2ms/step - loss: 0.0251 - accuracy: 0.8802 - mse: 0.0251\n",
      "Epoch 36/100\n",
      "469/469 [==============================] - 1s 2ms/step - loss: 0.0249 - accuracy: 0.8792 - mse: 0.0249\n",
      "Epoch 37/100\n",
      "469/469 [==============================] - 1s 2ms/step - loss: 0.0249 - accuracy: 0.8792 - mse: 0.0249\n",
      "Epoch 38/100\n",
      "469/469 [==============================] - 1s 2ms/step - loss: 0.0247 - accuracy: 0.8784 - mse: 0.0247\n",
      "Epoch 39/100\n",
      "469/469 [==============================] - 1s 2ms/step - loss: 0.0245 - accuracy: 0.8785 - mse: 0.0245\n",
      "Epoch 40/100\n",
      "469/469 [==============================] - 1s 2ms/step - loss: 0.0243 - accuracy: 0.8796 - mse: 0.0243\n",
      "Epoch 41/100\n",
      "469/469 [==============================] - 1s 2ms/step - loss: 0.0237 - accuracy: 0.8841 - mse: 0.0237\n",
      "Epoch 42/100\n",
      "469/469 [==============================] - 1s 2ms/step - loss: 0.0237 - accuracy: 0.8819 - mse: 0.0237\n",
      "Epoch 43/100\n",
      "469/469 [==============================] - 1s 2ms/step - loss: 0.0237 - accuracy: 0.8814 - mse: 0.0237\n",
      "Epoch 44/100\n",
      "469/469 [==============================] - 1s 2ms/step - loss: 0.0236 - accuracy: 0.8826 - mse: 0.0236\n",
      "Epoch 45/100\n",
      "469/469 [==============================] - 1s 2ms/step - loss: 0.0234 - accuracy: 0.8821 - mse: 0.0234\n",
      "Epoch 46/100\n",
      "469/469 [==============================] - 1s 2ms/step - loss: 0.0233 - accuracy: 0.8823 - mse: 0.0233\n",
      "Epoch 47/100\n",
      "469/469 [==============================] - 1s 2ms/step - loss: 0.0231 - accuracy: 0.8832 - mse: 0.0231\n",
      "Epoch 48/100\n",
      "469/469 [==============================] - 1s 2ms/step - loss: 0.0229 - accuracy: 0.8835 - mse: 0.0229\n",
      "Epoch 49/100\n",
      "469/469 [==============================] - 1s 2ms/step - loss: 0.0229 - accuracy: 0.8832 - mse: 0.0229\n",
      "Epoch 50/100\n",
      "469/469 [==============================] - 1s 2ms/step - loss: 0.0224 - accuracy: 0.8877 - mse: 0.0224\n",
      "Epoch 51/100\n",
      "469/469 [==============================] - 1s 2ms/step - loss: 0.0225 - accuracy: 0.8849 - mse: 0.0225\n",
      "Epoch 52/100\n",
      "469/469 [==============================] - 1s 2ms/step - loss: 0.0224 - accuracy: 0.8867 - mse: 0.0224\n",
      "Epoch 53/100\n",
      "469/469 [==============================] - 1s 2ms/step - loss: 0.0224 - accuracy: 0.8863 - mse: 0.0224\n",
      "Epoch 54/100\n",
      "469/469 [==============================] - 1s 2ms/step - loss: 0.0220 - accuracy: 0.8881 - mse: 0.0220\n",
      "Epoch 55/100\n",
      "469/469 [==============================] - 1s 2ms/step - loss: 0.0219 - accuracy: 0.8893 - mse: 0.0219\n",
      "Epoch 56/100\n",
      "469/469 [==============================] - 1s 2ms/step - loss: 0.0218 - accuracy: 0.8912 - mse: 0.0218\n",
      "Epoch 57/100\n",
      "469/469 [==============================] - 1s 2ms/step - loss: 0.0218 - accuracy: 0.8888 - mse: 0.0218\n",
      "Epoch 58/100\n",
      "469/469 [==============================] - 1s 2ms/step - loss: 0.0219 - accuracy: 0.8869 - mse: 0.0219\n",
      "Epoch 59/100\n",
      "469/469 [==============================] - 1s 2ms/step - loss: 0.0216 - accuracy: 0.8896 - mse: 0.0216\n",
      "Epoch 60/100\n",
      "469/469 [==============================] - 1s 2ms/step - loss: 0.0215 - accuracy: 0.8908 - mse: 0.0215\n",
      "Epoch 61/100\n",
      "469/469 [==============================] - 1s 2ms/step - loss: 0.0215 - accuracy: 0.8891 - mse: 0.0215\n",
      "Epoch 62/100\n",
      "469/469 [==============================] - 1s 2ms/step - loss: 0.0216 - accuracy: 0.8881 - mse: 0.0216\n",
      "Epoch 63/100\n",
      "469/469 [==============================] - 1s 2ms/step - loss: 0.0213 - accuracy: 0.8898 - mse: 0.0213\n",
      "Epoch 64/100\n",
      "469/469 [==============================] - 1s 2ms/step - loss: 0.0209 - accuracy: 0.8924 - mse: 0.0209\n",
      "Epoch 65/100\n",
      "469/469 [==============================] - 1s 2ms/step - loss: 0.0211 - accuracy: 0.8906 - mse: 0.0211\n",
      "Epoch 66/100\n",
      "469/469 [==============================] - 1s 2ms/step - loss: 0.0208 - accuracy: 0.8937 - mse: 0.0208\n",
      "Epoch 67/100\n",
      "469/469 [==============================] - 1s 2ms/step - loss: 0.0210 - accuracy: 0.8920 - mse: 0.0210\n",
      "Epoch 68/100\n",
      "469/469 [==============================] - 1s 2ms/step - loss: 0.0207 - accuracy: 0.8941 - mse: 0.0207\n",
      "Epoch 69/100\n",
      "469/469 [==============================] - 1s 2ms/step - loss: 0.0207 - accuracy: 0.8946 - mse: 0.0207\n",
      "Epoch 70/100\n",
      "469/469 [==============================] - 1s 2ms/step - loss: 0.0208 - accuracy: 0.8923 - mse: 0.0208\n",
      "Epoch 71/100\n"
     ]
    },
    {
     "name": "stdout",
     "output_type": "stream",
     "text": [
      "469/469 [==============================] - 1s 2ms/step - loss: 0.0204 - accuracy: 0.8948 - mse: 0.0204\n",
      "Epoch 72/100\n",
      "469/469 [==============================] - 1s 2ms/step - loss: 0.0205 - accuracy: 0.8934 - mse: 0.0205\n",
      "Epoch 73/100\n",
      "469/469 [==============================] - 1s 2ms/step - loss: 0.0202 - accuracy: 0.8950 - mse: 0.0202\n",
      "Epoch 74/100\n",
      "469/469 [==============================] - 1s 2ms/step - loss: 0.0202 - accuracy: 0.8961 - mse: 0.0202\n",
      "Epoch 75/100\n",
      "469/469 [==============================] - 1s 2ms/step - loss: 0.0201 - accuracy: 0.8959 - mse: 0.0201\n",
      "Epoch 76/100\n",
      "469/469 [==============================] - 1s 2ms/step - loss: 0.0203 - accuracy: 0.8951 - mse: 0.0203\n",
      "Epoch 77/100\n",
      "469/469 [==============================] - 1s 2ms/step - loss: 0.0203 - accuracy: 0.8948 - mse: 0.0203\n",
      "Epoch 78/100\n",
      "469/469 [==============================] - 1s 2ms/step - loss: 0.0200 - accuracy: 0.8961 - mse: 0.0200\n",
      "Epoch 79/100\n",
      "469/469 [==============================] - 1s 2ms/step - loss: 0.0202 - accuracy: 0.8950 - mse: 0.0202\n",
      "Epoch 80/100\n",
      "469/469 [==============================] - 1s 2ms/step - loss: 0.0201 - accuracy: 0.8963 - mse: 0.0201\n",
      "Epoch 81/100\n",
      "469/469 [==============================] - 1s 2ms/step - loss: 0.0201 - accuracy: 0.8943 - mse: 0.0201\n",
      "Epoch 82/100\n",
      "469/469 [==============================] - 1s 2ms/step - loss: 0.0199 - accuracy: 0.8961 - mse: 0.0199\n",
      "Epoch 83/100\n",
      "469/469 [==============================] - 1s 2ms/step - loss: 0.0197 - accuracy: 0.8973 - mse: 0.0197\n",
      "Epoch 84/100\n",
      "469/469 [==============================] - 1s 2ms/step - loss: 0.0196 - accuracy: 0.8980 - mse: 0.0196\n",
      "Epoch 85/100\n",
      "469/469 [==============================] - 1s 2ms/step - loss: 0.0198 - accuracy: 0.8970 - mse: 0.0198\n",
      "Epoch 86/100\n",
      "469/469 [==============================] - 1s 2ms/step - loss: 0.0196 - accuracy: 0.8983 - mse: 0.0196\n",
      "Epoch 87/100\n",
      "469/469 [==============================] - 1s 2ms/step - loss: 0.0194 - accuracy: 0.9000 - mse: 0.0194\n",
      "Epoch 88/100\n",
      "469/469 [==============================] - 1s 2ms/step - loss: 0.0195 - accuracy: 0.8984 - mse: 0.0195\n",
      "Epoch 89/100\n",
      "469/469 [==============================] - 1s 2ms/step - loss: 0.0194 - accuracy: 0.8982 - mse: 0.0194\n",
      "Epoch 90/100\n",
      "469/469 [==============================] - 1s 2ms/step - loss: 0.0192 - accuracy: 0.9007 - mse: 0.0192\n",
      "Epoch 91/100\n",
      "469/469 [==============================] - 1s 2ms/step - loss: 0.0193 - accuracy: 0.8993 - mse: 0.0193\n",
      "Epoch 92/100\n",
      "469/469 [==============================] - 1s 2ms/step - loss: 0.0194 - accuracy: 0.8981 - mse: 0.0194\n",
      "Epoch 93/100\n",
      "469/469 [==============================] - 1s 2ms/step - loss: 0.0194 - accuracy: 0.8992 - mse: 0.0194\n",
      "Epoch 94/100\n",
      "469/469 [==============================] - 1s 2ms/step - loss: 0.0192 - accuracy: 0.9000 - mse: 0.0192\n",
      "Epoch 95/100\n",
      "469/469 [==============================] - 1s 2ms/step - loss: 0.0191 - accuracy: 0.9001 - mse: 0.0191\n",
      "Epoch 96/100\n",
      "469/469 [==============================] - 1s 2ms/step - loss: 0.0191 - accuracy: 0.8989 - mse: 0.0191\n",
      "Epoch 97/100\n",
      "469/469 [==============================] - 1s 2ms/step - loss: 0.0192 - accuracy: 0.8987 - mse: 0.0192\n",
      "Epoch 98/100\n",
      "469/469 [==============================] - 1s 3ms/step - loss: 0.0192 - accuracy: 0.8993 - mse: 0.0192\n",
      "Epoch 99/100\n",
      "469/469 [==============================] - 1s 2ms/step - loss: 0.0189 - accuracy: 0.9017 - mse: 0.0189\n",
      "Epoch 100/100\n",
      "469/469 [==============================] - 1s 2ms/step - loss: 0.0190 - accuracy: 0.9010 - mse: 0.0190\n"
     ]
    }
   ],
   "source": [
    "import tensorflow as tf\n",
    "import matplotlib.pyplot as plt\n",
    "\n",
    "batch_size = 128\n",
    "num_classes = 10\n",
    "epochs = 20 # epochs =100과 비교\n",
    "\n",
    "(x_train, y_train), (x_test, y_test) = tf.keras.datasets.mnist.load_data()\n",
    "## 학습데이터와 테스트 데이터의 분리\n",
    "# print(x_train)\n",
    "\n",
    "## 데이터 전처리 ##\n",
    "x_train = x_train.reshape(60000, 784)\n",
    "x_test = x_test.reshape(10000, 784)\n",
    "\n",
    "x_train = x_train.astype('float32')\n",
    "x_test = x_test.astype('float32')\n",
    "\n",
    "x_train /= 255\n",
    "x_test /= 255\n",
    "\n",
    "y_train = tf.keras.utils.to_categorical(y_train, num_classes)\n",
    "y_test = tf.keras.utils.to_categorical(y_test, num_classes)\n",
    "\n",
    "## 신경망 구축 ##\n",
    "model = tf.keras.models.Sequential()\n",
    "model.add(tf.keras.layers.Dense(512, activation= 'sigmoid', input_shape = (784,)))\n",
    "model.add(tf.keras.layers.Dense(num_classes, activation= 'sigmoid')) ## Dense도 바꿔보고 activation 방식도 relu등으로 바꿔보기\n",
    "\n",
    "sgd = tf.keras.optimizers.SGD(learning_rate=0.11)\n",
    "\n",
    "model.compile(loss='mean_squared_error' # = 'mse'\n",
    "              , optimizer = sgd, metrics=['accuracy','mse']) ## accuracy를 precision등으로 바꿔보기\n",
    "\n",
    "# 모델 완성\n",
    "history = model.fit(x_train, y_train, batch_size = batch_size, epochs = epochs)\n",
    "\n",
    "score = model.evaluate(x_test, y_test,\n",
    "                       verbose = 0) # verbose = 1과 차이?"
   ]
  },
  {
   "cell_type": "code",
   "execution_count": 133,
   "id": "d588dee8",
   "metadata": {},
   "outputs": [
    {
     "name": "stdout",
     "output_type": "stream",
     "text": [
      "0.03018460050225258 0.8684999942779541\n"
     ]
    }
   ],
   "source": [
    "print(score[0], score[1])"
   ]
  },
  {
   "cell_type": "code",
   "execution_count": null,
   "id": "f99cd7ef",
   "metadata": {},
   "outputs": [],
   "source": []
  }
 ],
 "metadata": {
  "kernelspec": {
   "display_name": "Python 3",
   "language": "python",
   "name": "python3"
  },
  "language_info": {
   "codemirror_mode": {
    "name": "ipython",
    "version": 3
   },
   "file_extension": ".py",
   "mimetype": "text/x-python",
   "name": "python",
   "nbconvert_exporter": "python",
   "pygments_lexer": "ipython3",
   "version": "3.8.9"
  }
 },
 "nbformat": 4,
 "nbformat_minor": 5
}
